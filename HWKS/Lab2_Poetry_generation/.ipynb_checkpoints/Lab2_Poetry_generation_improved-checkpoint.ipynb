{
 "cells": [
  {
   "cell_type": "markdown",
   "metadata": {
    "id": "BEnQnswVWuEj"
   },
   "source": [
    "## Lab 01. Poetry generation\n",
    "\n",
    "Let's try to generate some poetry using RNNs. \n",
    "\n",
    "You have several choices here: \n",
    "\n",
    "* The Shakespeare sonnets, file `sonnets.txt` available in the notebook directory.\n",
    "\n",
    "* Роман в стихах \"Евгений Онегин\" Александра Сергеевича Пушкина. В предобработанном виде доступен по [ссылке](https://github.com/attatrol/data_sources/blob/master/onegin.txt).\n",
    "\n",
    "* Some other text source, if it will be approved by the course staff.\n",
    "\n",
    "Text generation can be designed in several steps:\n",
    "    \n",
    "1. Data loading.\n",
    "2. Dictionary generation.\n",
    "3. Data preprocessing.\n",
    "4. Model (neural network) training.\n",
    "5. Text generation (model evaluation).\n"
   ]
  },
  {
   "cell_type": "code",
   "execution_count": 1,
   "metadata": {
    "id": "SUsyxbzGWuEr"
   },
   "outputs": [],
   "source": [
    "import string\n",
    "import os\n",
    "import torch, torch.nn as nn\n",
    "import torch.nn.functional as F\n",
    "import numpy as np\n",
    "from IPython.display import clear_output\n",
    "from random import sample\n",
    "from matplotlib import pyplot as plt"
   ]
  },
  {
   "cell_type": "markdown",
   "metadata": {
    "id": "jWzP9MMsWuEs"
   },
   "source": [
    "### Data loading: Shakespeare"
   ]
  },
  {
   "cell_type": "markdown",
   "metadata": {
    "id": "_0Ay8_58WuEs"
   },
   "source": [
    "Shakespeare sonnets are awailable at this [link](http://www.gutenberg.org/ebooks/1041?msg=welcome_stranger). In addition, they are stored in the same directory as this notebook (`sonnetes.txt`). Simple preprocessing is already done for you in the next cell: all technical info is dropped."
   ]
  },
  {
   "cell_type": "code",
   "execution_count": 2,
   "metadata": {
    "id": "Fy1vzaMqWuEs"
   },
   "outputs": [],
   "source": [
    "if not os.path.exists('sonnets.txt'):\n",
    "    !wget https://raw.githubusercontent.com/girafe-ai/ml-mipt/master/homeworks_basic/Lab2_DL/sonnets.txt\n",
    "\n",
    "with open('sonnets.txt', 'r') as iofile:\n",
    "    text = iofile.readlines()\n",
    "    \n",
    "TEXT_START = 45\n",
    "TEXT_END = -368\n",
    "text = text[TEXT_START : TEXT_END]\n",
    "assert len(text) == 2616"
   ]
  },
  {
   "cell_type": "markdown",
   "metadata": {
    "id": "sTLsAmNfWuEt"
   },
   "source": [
    "In opposite to the in-class practice, this time we want to predict complex text. Let's reduce the complexity of the task and lowercase all the symbols.\n",
    "\n",
    "Now variable `text` is a list of strings. Join all the strings into one and lowercase it."
   ]
  },
  {
   "cell_type": "code",
   "execution_count": 3,
   "metadata": {
    "colab": {
     "base_uri": "https://localhost:8080/"
    },
    "id": "3AQrivbdWuEt",
    "outputId": "e39f26b2-b053-4c85-f7b0-09834ba27c17"
   },
   "outputs": [
    {
     "name": "stdout",
     "output_type": "stream",
     "text": [
      "OK!\n"
     ]
    }
   ],
   "source": [
    "single_text = \"\".join([x.lower() for x in text])\n",
    "\n",
    "assert len(single_text) == 100225, 'Are you sure you have concatenated all the strings?'\n",
    "assert not any([x in set(single_text) for x in string.ascii_uppercase]), 'Uppercase letters are present'\n",
    "print('OK!')"
   ]
  },
  {
   "cell_type": "code",
   "execution_count": 4,
   "metadata": {
    "colab": {
     "base_uri": "https://localhost:8080/"
    },
    "id": "3AQrivbdWuEt",
    "outputId": "e39f26b2-b053-4c85-f7b0-09834ba27c17"
   },
   "outputs": [
    {
     "name": "stdout",
     "output_type": "stream",
     "text": [
      "max length = 31\n"
     ]
    },
    {
     "data": {
      "image/png": "[encoded data removed]",
      "text/plain": [
       "<Figure size 432x288 with 1 Axes>"
      ]
     },
     "metadata": {
      "needs_background": "light"
     },
     "output_type": "display_data"
    }
   ],
   "source": [
    "words = single_text.split()\n",
    "MAX_LENGTH = max(len(w) for w in words)\n",
    "print(\"max length =\", MAX_LENGTH)\n",
    "\n",
    "plt.title(\"Sequence length distribution\")\n",
    "plt.hist(list(map(len, words)), bins=25);"
   ]
  },
  {
   "cell_type": "markdown",
   "metadata": {
    "id": "1kPIiOD_WuEv"
   },
   "source": [
    "In opposite to the in-class practice, this time we want to predict complex text. Let's reduce the complexity of the task and lowercase all the symbols.\n",
    "\n",
    "Now variable `text` is a list of strings. Join all the strings into one and lowercase it.\n",
    "\n",
    "Put all the characters, that you've seen in the text, into variable `tokens`.\n",
    "\n",
    "Create dictionary `token_to_idx = {<char>: <index>}` and dictionary `idx_to_token = {<index>: <char>}`"
   ]
  },
  {
   "cell_type": "code",
   "execution_count": 5,
   "metadata": {
    "id": "ZLloj6gTWuEx"
   },
   "outputs": [],
   "source": [
    "tokens = sorted(set(single_text))\n",
    "token_to_idx = {token: idx for idx, token in enumerate(tokens)}\n",
    "idx_to_token = {j: i for i, j in token_to_idx.items()}"
   ]
  },
  {
   "cell_type": "code",
   "execution_count": 6,
   "metadata": {
    "id": "ONCF6lIPhu9u"
   },
   "outputs": [],
   "source": [
    "def one_hot_encode(arr, n_labels):\n",
    "    one_hot = np.zeros((np.multiply(*arr.shape), n_labels), dtype=np.float32)\n",
    "    one_hot[np.arange(one_hot.shape[0]), arr.flatten()] = 1.\n",
    "    one_hot = one_hot.reshape((*arr.shape, n_labels))\n",
    "    return one_hot"
   ]
  },
  {
   "cell_type": "markdown",
   "metadata": {
    "id": "qusZmvDAWuEy"
   },
   "source": [
    "### Building the model"
   ]
  },
  {
   "cell_type": "markdown",
   "metadata": {
    "id": "krXxNxOOWuEz"
   },
   "source": [
    "Now we want to build and train recurrent neural net which would be able to something similar to Shakespeare's poetry.\n",
    "\n",
    "Let's use vanilla RNN, similar to the one created during the lesson."
   ]
  },
  {
   "cell_type": "code",
   "execution_count": 22,
   "metadata": {
    "id": "krXxNxOOWuEz"
   },
   "outputs": [],
   "source": [
    "train_on_gpu = torch.cuda.is_available()"
   ]
  },
  {
   "cell_type": "code",
   "execution_count": 7,
   "metadata": {
    "id": "ZA5IcBFgWuE0"
   },
   "outputs": [],
   "source": [
    "def to_matrix(text, tokens_to_idx):\n",
    "\n",
    "    # for set_of_phrases in text:\n",
    "    ans = []\n",
    "    for phrase in text:\n",
    "      cur = []\n",
    "      for char in phrase:\n",
    "          cur.append(tokens_to_idx[char.lower()])\n",
    "      rem = MAX_LENGTH - len(cur) ### number of required padding\n",
    "      for i in range(rem):\n",
    "          cur.append(tokens_to_idx[' '])\n",
    "      ans.append(cur)\n",
    "\n",
    "    return ans\n"
   ]
  },
  {
   "cell_type": "code",
   "execution_count": 8,
   "metadata": {
    "id": "Ls6XtTqRfahD"
   },
   "outputs": [],
   "source": [
    "\n",
    "class CharRNNLoop(nn.Module):\n",
    "    def __init__(self, num_tokens=len(tokens), emb_size=16, rnn_num_units=64):\n",
    "        super(self.__class__, self).__init__()\n",
    "        self.num_units = rnn_num_units\n",
    "        self.emb = nn.Embedding(num_tokens, emb_size)\n",
    "        self.rnn = nn.RNN(emb_size, rnn_num_units, batch_first=True)\n",
    "        self.hid_to_logits = nn.Linear(rnn_num_units, num_tokens)\n",
    "        \n",
    "    def forward(self, x):\n",
    "        assert isinstance(x.data, torch.LongTensor)\n",
    "        h_seq, _ = self.rnn(self.emb(x))\n",
    "        next_logits = self.hid_to_logits(h_seq)\n",
    "        return next_logits\n",
    "\n",
    "    \n",
    "char_rnn = CharRNNLoop()\n",
    "opt = torch.optim.Adam(char_rnn.parameters())\n",
    "history = []"
   ]
  },
  {
   "cell_type": "markdown",
   "metadata": {
    "id": "16vR_a_LWuE0"
   },
   "source": [
    "Plot the loss function (axis X: number of epochs, axis Y: loss function)."
   ]
  },
  {
   "cell_type": "code",
   "execution_count": 9,
   "metadata": {
    "colab": {
     "base_uri": "https://localhost:8080/",
     "height": 268
    },
    "id": "BPivzswYWuE0",
    "outputId": "06aced07-be34-4cc8-c6ce-0c1690e711b7"
   },
   "outputs": [
    {
     "data": {
      "image/png": "[encoded data removed]",
      "text/plain": [
       "<Figure size 432x288 with 1 Axes>"
      ]
     },
     "metadata": {
      "needs_background": "light"
     },
     "output_type": "display_data"
    }
   ],
   "source": [
    "max_iter = 10000\n",
    "batch_size = 128\n",
    "\n",
    "MAX_LENGTH = 256\n",
    "\n",
    "for i in range(max_iter):\n",
    "\n",
    "    start_idxs = np.random.randint(0, len(text) - batch_size, size=batch_size)\n",
    "    substrings = [text[start_idx:start_idx+batch_size] for start_idx in start_idxs]\n",
    "    \n",
    "    a = to_matrix(substrings[0], token_to_idx)\n",
    "    \n",
    "    batch_ix = torch.tensor(a, dtype=torch.int64)    \n",
    "    logp_seq = char_rnn(batch_ix)\n",
    "    \n",
    "    # compute loss\n",
    "    predictions_logp = F.log_softmax(logp_seq[:, :-1], dim=-1)\n",
    "    actual_next_tokens = batch_ix[:, 1:]\n",
    "\n",
    "    loss = -torch.mean(torch.gather(predictions_logp, dim=2, index=actual_next_tokens[:,:,None]))\n",
    "    \n",
    "    # backpropogation\n",
    "\n",
    "    loss.backward()\n",
    "    opt.step()\n",
    "    opt.zero_grad()\n",
    "    \n",
    "    history.append(loss.data.numpy())\n",
    "    if (i+1)%100==0:\n",
    "        clear_output(True)\n",
    "        plt.plot(history,label='loss')\n",
    "        plt.legend()\n",
    "        plt.show()\n",
    "        plt.ylabel('loss')\n",
    "        plt.xlabel('iter')\n",
    "        plt.ylabel('loss')\n",
    "        plt.xlabel('iter')\n",
    "\n",
    "\n",
    "assert np.mean(history[:10]) > np.mean(history[-10:]), \"RNN didn't converge.\""
   ]
  },
  {
   "cell_type": "code",
   "execution_count": 10,
   "metadata": {
    "id": "AYoh1yNcWuE1"
   },
   "outputs": [],
   "source": [
    "def generate_sample(char_rnn, seed_phrase=' ', max_length=MAX_LENGTH, temperature=1.0):\n",
    "    '''\n",
    "    The function generates text given a phrase of length at least SEQ_LENGTH.\n",
    "    :param seed_phrase: prefix characters. The RNN is asked to continue the phraseMAX_LENGTH\n",
    "    :param max_length: maximum output length, including seed_phrase\n",
    "    :param temperature: coefficient for sampling.  higher temperature produces more chaotic outputs,\n",
    "                        smaller temperature converges to the single most likely output\n",
    "    '''\n",
    "    \n",
    "    x_sequence = [token_to_idx[token.lower()] for token in seed_phrase]\n",
    "    x_sequence = torch.tensor([[x_sequence]], dtype=torch.int64)\n",
    "    \n",
    "    #feed the seed phrase, if any\n",
    "    for i in range(1):\n",
    "        out = char_rnn(x_sequence[:, i])\n",
    "    \n",
    "    #start generating\n",
    "    for _ in range(max_length - len(seed_phrase)):\n",
    "        out = char_rnn(x_sequence[:, -1, :])\n",
    "        # Be really careful here with the model output\n",
    "        p_next = F.softmax(out[:, -1, :] / temperature, dim=-1).data.numpy()[0]\n",
    "        MAX_LENGTH\n",
    "        next_ix = np.random.choice(len(tokens), p=p_next)\n",
    "        next_ix = torch.tensor([[next_ix]], dtype=torch.int64)\n",
    "        x_sequence = torch.cat([x_sequence, next_ix.view((1,1,1))], dim=-1)\n",
    "        \n",
    "    return ''.join([tokens[ix] for ix in x_sequence.data.numpy().squeeze()])\n",
    "        "
   ]
  },
  {
   "cell_type": "code",
   "execution_count": 11,
   "metadata": {
    "colab": {
     "base_uri": "https://localhost:8080/"
    },
    "id": "q7qjeWBEeKrz",
    "outputId": "22528133-bb4f-4204-cdae-4a0df0509e46"
   },
   "outputs": [
    {
     "name": "stdout",
     "output_type": "stream",
     "text": [
      " hey beautiful that prave af on the praking an by what ey beich the i malight whimes are as thee.\n",
      "                                                                                                                                                                                                                                                                                                                                                                                                                  \n"
     ]
    }
   ],
   "source": [
    "print(generate_sample(char_rnn, seed_phrase = ' hey beautiful', temperature = 0.6, max_length=500))"
   ]
  },
  {
   "cell_type": "markdown",
   "metadata": {
    "id": "XJtLhmIdWuE2"
   },
   "source": [
    "### More poetic model\n",
    "\n",
    "Let's use LSTM instead of vanilla RNN and compare the results."
   ]
  },
  {
   "cell_type": "code",
   "execution_count": 12,
   "metadata": {
    "id": "6f8e3j6wWuE2"
   },
   "outputs": [],
   "source": [
    "class CharLSTMLoop(nn.Module):\n",
    "    def __init__(self, num_tokens=len(tokens), emb_size=16, rnn_num_units=64):\n",
    "        super(self.__class__, self).__init__()\n",
    "        self.num_units = rnn_num_units\n",
    "        self.emb = nn.Embedding(num_tokens, emb_size)\n",
    "        self.lstm = nn.LSTM(emb_size, rnn_num_units, batch_first=True)\n",
    "        self.hid_to_logits = nn.Linear(rnn_num_units, num_tokens)\n",
    "        \n",
    "    def forward(self, x):\n",
    "        assert isinstance(x.data, torch.LongTensor)\n",
    "        h_seq, _ = self.lstm(self.emb(x))\n",
    "        next_logits = self.hid_to_logits(h_seq)\n",
    "        return next_logits\n",
    "    \n"
   ]
  },
  {
   "cell_type": "code",
   "execution_count": 13,
   "metadata": {
    "colab": {
     "base_uri": "https://localhost:8080/",
     "height": 265
    },
    "id": "dc3-BFRapQQ8",
    "outputId": "4dd786fa-16a6-435c-ae8f-2ae7c38f944e"
   },
   "outputs": [
    {
     "data": {
      "image/png": "[encoded data removed]",
      "text/plain": [
       "<Figure size 432x288 with 1 Axes>"
      ]
     },
     "metadata": {
      "needs_background": "light"
     },
     "output_type": "display_data"
    }
   ],
   "source": [
    "char_lstm = CharLSTMLoop()\n",
    "opt = torch.optim.Adam(char_lstm.parameters())\n",
    "history = []\n",
    "\n",
    "max_iter = 10000\n",
    "batch_size = 128\n",
    "\n",
    "for i in range(max_iter):\n",
    "\n",
    "    start_idxs = np.random.randint(0, len(text) - batch_size, size=batch_size)\n",
    "    substrings = [text[start_idx:start_idx+batch_size] for start_idx in start_idxs]\n",
    "    a = to_matrix(substrings[0], token_to_idx)\n",
    "    batch_ix = torch.tensor(a, dtype=torch.int64)    \n",
    "    logp_seq = char_lstm(batch_ix)\n",
    "    \n",
    "    # compute loss\n",
    "    predictions_logp = F.log_softmax(logp_seq[:, :-1], dim=-1)\n",
    "    actual_next_tokens = batch_ix[:, 1:]\n",
    "\n",
    "    loss = -torch.mean(torch.gather(predictions_logp, dim=2, index=actual_next_tokens[:,:,None]))\n",
    "    \n",
    "    # train with backprop\n",
    "    loss.backward()\n",
    "    opt.step()\n",
    "    opt.zero_grad()\n",
    "    \n",
    "    history.append(loss.data.numpy())\n",
    "    if (i+1)%300==0:\n",
    "        clear_output(True)\n",
    "        plt.plot(history,label='loss')\n",
    "        plt.legend()\n",
    "        plt.show()\n",
    "        plt.ylabel('loss')\n",
    "        plt.xlabel('iter')\n",
    "\n",
    "assert np.mean(history[:10]) > np.mean(history[-10:]), \"RNN didn't converge.\""
   ]
  },
  {
   "cell_type": "markdown",
   "metadata": {
    "id": "d2GV7gTfWuE2"
   },
   "source": [
    "Generate text using the trained net with different `temperature` parameter: `[0.1, 0.2, 0.5, 1.0, 2.0]`.\n",
    "\n",
    "Evaluate the results visually, try to interpret them."
   ]
  },
  {
   "cell_type": "code",
   "execution_count": 19,
   "metadata": {
    "colab": {
     "base_uri": "https://localhost:8080/"
    },
    "id": "SJI-wZpcWuE2",
    "outputId": "185618a2-f9d7-49b2-a0f8-64c2c099fa00"
   },
   "outputs": [
    {
     "name": "stdout",
     "output_type": "stream",
     "text": [
      "Text generation with a temperature of 0.1 :  imagine the world the the the the shall thee,\n",
      "                                                                                                                                                                                                                 \n",
      "Text generation with a temperature of 0.2 :  imagine the world the the the so the thee,\n",
      "                                                                                                                                                                                                                    \n",
      "Text generation with a temperature of 0.5 :  imagine the world live i thy all grome\n",
      "                                                                                                                                                                                                                        \n",
      "Text generation with a temperature of 1.0 :  imagine the world'd uspree, ity mnace,fy'd,\n",
      "                                                                                                                                                                                                                   \n",
      "Text generation with a temperature of 2.0 :  imagine the world of lifkrac'h wi fiickilg\n",
      ";    ,            f                          -                                                                                                                                                                      \n"
     ]
    }
   ],
   "source": [
    "temperatures = [0.1, 0.2, 0.5, 1.0, 2.0]\n",
    "for temperature in temperatures:\n",
    "    generated_text = generate_sample(char_lstm, seed_phrase = ' Imagine the world', temperature = temperature)\n",
    "    print ('Text generation with a temperature of', temperature, ':', generated_text)"
   ]
  },
  {
   "cell_type": "markdown",
   "metadata": {
    "id": "a2A1FrZFWuE3"
   },
   "source": [
    "### Saving and loading models"
   ]
  },
  {
   "cell_type": "markdown",
   "metadata": {
    "id": "Q9ZiIUG_WuE3"
   },
   "source": [
    "Save the model to the disk, then load it and generate text. Examples are available [here](https://pytorch.org/tutorials/beginner/saving_loading_models.html])."
   ]
  },
  {
   "cell_type": "code",
   "execution_count": 15,
   "metadata": {
    "id": "1jn1yi9NWuE3"
   },
   "outputs": [],
   "source": [
    "import pickle\n",
    "pickle_dumped = open(\"rnn_model_10k.pickle\",\"wb+\")\n",
    "pickle.dump(char_rnn, pickle_dumped)\n",
    "\n",
    "pickle_dumped2 = open(\"lstm_model_10k.pickle\",\"wb+\")\n",
    "pickle.dump(char_lstm, pickle_dumped2)"
   ]
  },
  {
   "cell_type": "code",
   "execution_count": 16,
   "metadata": {
    "colab": {
     "base_uri": "https://localhost:8080/"
    },
    "id": "XhC4rwtdogWm",
    "outputId": "43683a13-e801-4d78-c0a0-339be21a333b"
   },
   "outputs": [
    {
     "data": {
      "text/plain": [
       "CharRNNLoop(\n",
       "  (emb): Embedding(38, 16)\n",
       "  (rnn): RNN(16, 64, batch_first=True)\n",
       "  (hid_to_logits): Linear(in_features=64, out_features=38, bias=True)\n",
       ")"
      ]
     },
     "execution_count": 16,
     "metadata": {},
     "output_type": "execute_result"
    }
   ],
   "source": [
    "pickle_loaded = open(\"rnn_model_10k.pickle\",\"rb+\")\n",
    "char_rnn_loaded = pickle.load(pickle_loaded)\n",
    "char_rnn_loaded"
   ]
  },
  {
   "cell_type": "code",
   "execution_count": 17,
   "metadata": {
    "id": "TgKqcK94ojDg"
   },
   "outputs": [
    {
     "data": {
      "text/plain": [
       "CharLSTMLoop(\n",
       "  (emb): Embedding(38, 16)\n",
       "  (lstm): LSTM(16, 64, batch_first=True)\n",
       "  (hid_to_logits): Linear(in_features=64, out_features=38, bias=True)\n",
       ")"
      ]
     },
     "execution_count": 17,
     "metadata": {},
     "output_type": "execute_result"
    }
   ],
   "source": [
    "pickle_loaded2 = open(\"lstm_model_10k.pickle\",\"rb+\")\n",
    "char_lstm_loaded = pickle.load(pickle_loaded2)\n",
    "char_lstm_loaded"
   ]
  },
  {
   "cell_type": "code",
   "execution_count": 23,
   "metadata": {
    "colab": {
     "base_uri": "https://localhost:8080/"
    },
    "id": "BK9Y-vonoluG",
    "outputId": "259f7a20-1154-45a6-ee7d-05c94be2328b"
   },
   "outputs": [
    {
     "name": "stdout",
     "output_type": "stream",
     "text": [
      " think deeply about sell call live thee,\n",
      "                                                                                                                                                                                                                                                                                                                                                                                                                                                                                                                                                                                                                                                                                                                                                                                                                                                                                                                                                                                               \n"
     ]
    }
   ],
   "source": [
    "temperature = 0.55\n",
    "print(generate_sample(char_lstm_loaded, seed_phrase = ' Think deeply about', temperature = temperature,max_length= 1000))"
   ]
  },
  {
   "cell_type": "markdown",
   "metadata": {
    "id": "g6znVU6kWuE3"
   },
   "source": [
    "### References\n",
    "1. <a href='http://karpathy.github.io/2015/05/21/rnn-effectiveness/'> Andrew Karpathy blog post about RNN. </a> \n",
    "There are several examples of genration: Shakespeare texts, Latex formulas, Linux Sourse Code and children names.\n",
    "2. <a href='https://github.com/karpathy/char-rnn'> Repo with char-rnn code </a>\n",
    "3. Cool repo with PyTorch examples: [link](https://github.com/spro/practical-pytorch`)"
   ]
  }
 ],
 "metadata": {
  "anaconda-cloud": {},
  "colab": {
   "name": "Copy of Lab2_Poetry_generation.ipynb",
   "provenance": []
  },
  "kernelspec": {
   "display_name": "Python 3.8 (pytorch)",
   "language": "python",
   "name": "pytorch"
  },
  "language_info": {
   "codemirror_mode": {
    "name": "ipython",
    "version": 3
   },
   "file_extension": ".py",
   "mimetype": "text/x-python",
   "name": "python",
   "nbconvert_exporter": "python",
   "pygments_lexer": "ipython3",
   "version": "3.8.8"
  }
 },
 "nbformat": 4,
 "nbformat_minor": 1
}
