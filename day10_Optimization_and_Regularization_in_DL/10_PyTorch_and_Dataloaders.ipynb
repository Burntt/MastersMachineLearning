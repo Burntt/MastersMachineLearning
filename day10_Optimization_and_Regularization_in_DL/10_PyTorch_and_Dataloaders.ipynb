{
 "cells": [
  {
   "cell_type": "markdown",
   "metadata": {},
   "source": [
    "# week0_10: PyTorch practice, hints and Dataloaders"
   ]
  },
  {
   "cell_type": "markdown",
   "metadata": {},
   "source": [
    "Credits:\n",
    "* First part is based on YSDA [Practical RL course week04 materials](https://github.com/yandexdataschool/Practical_RL/tree/master/week04_%5Brecap%5D_deep_learning).\n",
    "* Second part is based on PyTorch official tutorials and [this kaggle kernel](https://www.kaggle.com/pinocookie/pytorch-dataset-and-dataloader)\n",
    "* Third part is based on PyTorch tutorial by [Stanford CS 231n course](http://cs231n.stanford.edu)"
   ]
  },
  {
   "cell_type": "markdown",
   "metadata": {},
   "source": [
    "![img](https://pytorch.org/tutorials/_static/pytorch-logo-dark.svg)\n",
    "\n",
    "__This notebook__ will teach you to use pytorch low-level core. You can install it [here](http://pytorch.org/).\n",
    "\n",
    "__Pytorch feels__ differently than other frameworks (like tensorflow/theano) on almost every level. TensorFlow makes your code live in two \"worlds\" simultaneously:  symbolic graphs and actual tensors. First you declare a symbolic \"recipe\" of how to get from inputs to outputs, then feed it with actual minibatches of data.  In pytorch, __there's only one world__: all tensors have a numeric value.\n",
    "\n",
    "You compute outputs on the fly without pre-declaring anything. The code looks exactly as in pure numpy with one exception: pytorch computes gradients for you. And can run stuff on GPU. And has a number of pre-implemented building blocks for your neural nets. [And a few more things.](https://medium.com/towards-data-science/pytorch-vs-tensorflow-spotting-the-difference-25c75777377b)\n",
    "\n",
    "Let's dive into it!"
   ]
  },
  {
   "cell_type": "code",
   "execution_count": 1,
   "metadata": {
    "ExecuteTime": {
     "end_time": "2020-02-28T00:59:42.103233Z",
     "start_time": "2020-02-28T00:59:42.099338Z"
    }
   },
   "outputs": [],
   "source": [
    "import matplotlib.pyplot as plt\n",
    "import numpy as np  # linear algebra\n",
    "import pandas as pd  # data processing, CSV file I/O (e.g. pd.read_csv)\n",
    "import torch\n",
    "import torchvision\n",
    "from torch.utils.data import DataLoader, Dataset, Subset\n",
    "from torchvision import transforms"
   ]
  },
  {
   "cell_type": "markdown",
   "metadata": {},
   "source": [
    "### Task 2: Using the Dataloader"
   ]
  },
  {
   "cell_type": "code",
   "execution_count": 2,
   "metadata": {
    "ExecuteTime": {
     "end_time": "2020-02-28T00:13:20.896055Z",
     "start_time": "2020-02-28T00:13:20.893241Z"
    }
   },
   "outputs": [],
   "source": [
    "from torch import nn\n",
    "from torch.nn import functional as F"
   ]
  },
  {
   "cell_type": "code",
   "execution_count": 3,
   "metadata": {
    "ExecuteTime": {
     "end_time": "2020-02-28T00:13:21.223097Z",
     "start_time": "2020-02-28T00:13:21.220643Z"
    }
   },
   "outputs": [],
   "source": [
    "# !wget https://raw.githubusercontent.com/neychev/harbour_ml2020/master/day10_Optimization_and_regularization_in_DL/notmnist.py"
   ]
  },
  {
   "cell_type": "code",
   "execution_count": 4,
   "metadata": {
    "ExecuteTime": {
     "end_time": "2020-02-28T00:13:24.681345Z",
     "start_time": "2020-02-28T00:13:21.715775Z"
    }
   },
   "outputs": [],
   "source": [
    "from notmnist import load_notmnist"
   ]
  },
  {
   "cell_type": "code",
   "execution_count": 5,
   "metadata": {
    "ExecuteTime": {
     "end_time": "2020-02-28T00:13:24.681345Z",
     "start_time": "2020-02-28T00:13:21.715775Z"
    }
   },
   "outputs": [
    {
     "name": "stdout",
     "output_type": "stream",
     "text": [
      "Parsing...\n",
      "found broken img: ./notMNIST_small/F/Q3Jvc3NvdmVyIEJvbGRPYmxpcXVlLnR0Zg==.png [it's ok if <10 images are broken]\n",
      "found broken img: ./notMNIST_small/A/RGVtb2NyYXRpY2FCb2xkT2xkc3R5bGUgQm9sZC50dGY=.png [it's ok if <10 images are broken]\n",
      "Done\n"
     ]
    }
   ],
   "source": [
    "X_train, y_train, X_test, y_test = load_notmnist()"
   ]
  },
  {
   "cell_type": "code",
   "execution_count": 6,
   "metadata": {
    "ExecuteTime": {
     "end_time": "2020-02-28T08:04:08.525398Z",
     "start_time": "2020-02-28T08:04:08.519240Z"
    }
   },
   "outputs": [],
   "source": [
    "class DatasetMNIST(Dataset):\n",
    "    def __init__(self, path=\"./notMNIST_small\", letters=\"ABCDEFGHIJ\", transform=None):\n",
    "        self.data, self.labels, _, _ = load_notmnist(path=path, letters=letters, test_size=0.25)\n",
    "        self.transform = transform\n",
    "\n",
    "    def __len__(self):\n",
    "        return len(self.data)\n",
    "\n",
    "    def __getitem__(self, index):\n",
    "        # load image as ndarray type (Height * Width * Channels)\n",
    "        # be carefull for converting dtype to np.uint8 [Unsigned integer (0 to 255)]\n",
    "        # in this example, i don't use ToTensor() method of torchvision.transforms\n",
    "        # so you can convert numpy ndarray shape to tensor in PyTorch (H, W, C) --> (C, H, W)\n",
    "        image = self.data[index].transpose(1, 2, 0)\n",
    "        label = self.labels[index]\n",
    "\n",
    "        if self.transform is not None:\n",
    "            image = self.transform(image)\n",
    "\n",
    "        return image, label"
   ]
  },
  {
   "cell_type": "code",
   "execution_count": 7,
   "metadata": {
    "ExecuteTime": {
     "end_time": "2020-02-28T08:04:19.890914Z",
     "start_time": "2020-02-28T08:04:19.336026Z"
    },
    "scrolled": true
   },
   "outputs": [
    {
     "name": "stdout",
     "output_type": "stream",
     "text": [
      "Parsing...\n",
      "found broken img: ./notMNIST_small/A/RGVtb2NyYXRpY2FCb2xkT2xkc3R5bGUgQm9sZC50dGY=.png [it's ok if <10 images are broken]\n",
      "Done\n"
     ]
    }
   ],
   "source": [
    "full_dataset = DatasetMNIST(\"./notMNIST_small\", \"AB\", transform=None)"
   ]
  },
  {
   "cell_type": "code",
   "execution_count": 8,
   "metadata": {
    "ExecuteTime": {
     "end_time": "2020-02-28T08:05:36.271686Z",
     "start_time": "2020-02-28T08:05:36.267914Z"
    }
   },
   "outputs": [
    {
     "name": "stdout",
     "output_type": "stream",
     "text": [
      "(28, 28, 1)\n",
      "<class 'numpy.ndarray'>\n"
     ]
    }
   ],
   "source": [
    "# we can access and get data with index by __getitem__(index)\n",
    "img, lab = full_dataset.__getitem__(0)\n",
    "\n",
    "print(img.shape)\n",
    "print(type(img))"
   ]
  },
  {
   "cell_type": "code",
   "execution_count": 9,
   "metadata": {
    "ExecuteTime": {
     "end_time": "2020-02-28T08:05:39.406582Z",
     "start_time": "2020-02-28T08:05:39.402397Z"
    }
   },
   "outputs": [
    {
     "data": {
      "text/plain": [
       "torch.Size([1, 28, 28])"
      ]
     },
     "execution_count": 9,
     "metadata": {},
     "output_type": "execute_result"
    }
   ],
   "source": [
    "a = torchvision.transforms.ToTensor()\n",
    "\n",
    "a(img).shape"
   ]
  },
  {
   "cell_type": "code",
   "execution_count": 10,
   "metadata": {
    "ExecuteTime": {
     "end_time": "2020-02-28T00:13:37.378205Z",
     "start_time": "2020-02-28T00:13:37.115219Z"
    }
   },
   "outputs": [
    {
     "data": {
      "image/png": "[encoded data removed]",
      "text/plain": [
       "<Figure size 432x288 with 2 Axes>"
      ]
     },
     "metadata": {
      "needs_background": "light"
     },
     "output_type": "display_data"
    }
   ],
   "source": [
    "inds = np.random.randint(len(full_dataset), size=2)\n",
    "\n",
    "for i in range(2):\n",
    "    plt.subplot(1, 2, i + 1)\n",
    "    plt.imshow(full_dataset[inds[i]][0].reshape([28, 28]))\n",
    "    plt.title(str(full_dataset[inds[i]][1]))"
   ]
  },
  {
   "cell_type": "markdown",
   "metadata": {},
   "source": [
    "#### To the DataLoader"
   ]
  },
  {
   "cell_type": "code",
   "execution_count": 11,
   "metadata": {
    "ExecuteTime": {
     "end_time": "2020-02-28T00:13:38.561437Z",
     "start_time": "2020-02-28T00:13:38.558371Z"
    }
   },
   "outputs": [],
   "source": [
    "train_loader = DataLoader(full_dataset, batch_size=8, shuffle=True)"
   ]
  },
  {
   "cell_type": "markdown",
   "metadata": {},
   "source": [
    "We can use dataloader as iterator by using iter() function."
   ]
  },
  {
   "cell_type": "code",
   "execution_count": 12,
   "metadata": {
    "ExecuteTime": {
     "end_time": "2020-02-28T00:13:39.386457Z",
     "start_time": "2020-02-28T00:13:39.382386Z"
    }
   },
   "outputs": [
    {
     "name": "stdout",
     "output_type": "stream",
     "text": [
      "<class 'torch.utils.data.dataloader._SingleProcessDataLoaderIter'>\n"
     ]
    }
   ],
   "source": [
    "train_iter = iter(train_loader)\n",
    "print(type(train_iter))"
   ]
  },
  {
   "cell_type": "markdown",
   "metadata": {},
   "source": [
    "We can look at images and labels of batch size by extracting data `.next()` method."
   ]
  },
  {
   "cell_type": "code",
   "execution_count": 13,
   "metadata": {
    "ExecuteTime": {
     "end_time": "2020-02-28T00:13:40.508098Z",
     "start_time": "2020-02-28T00:13:40.502629Z"
    }
   },
   "outputs": [
    {
     "name": "stdout",
     "output_type": "stream",
     "text": [
      "images shape on batch size = torch.Size([8, 28, 28, 1])\n",
      "labels shape on batch size = torch.Size([8])\n"
     ]
    }
   ],
   "source": [
    "images, labels = train_iter.next()\n",
    "\n",
    "print(\"images shape on batch size = {}\".format(images.size()))\n",
    "print(\"labels shape on batch size = {}\".format(labels.size()))"
   ]
  },
  {
   "cell_type": "code",
   "execution_count": 14,
   "metadata": {
    "ExecuteTime": {
     "end_time": "2020-02-28T00:13:41.593728Z",
     "start_time": "2020-02-28T00:13:41.506364Z"
    }
   },
   "outputs": [
    {
     "name": "stderr",
     "output_type": "stream",
     "text": [
      "Clipping input data to the valid range for imshow with RGB data ([0..1] for floats or [0..255] for integers).\n",
      "/home/berend/anaconda3/envs/torch/lib/python3.8/site-packages/matplotlib/text.py:1165: FutureWarning: elementwise comparison failed; returning scalar instead, but in the future will perform elementwise comparison\n",
      "  if s != self._text:\n"
     ]
    },
    {
     "data": {
      "image/png": "[encoded data removed]",
      "text/plain": [
       "<Figure size 432x288 with 1 Axes>"
      ]
     },
     "metadata": {
      "needs_background": "light"
     },
     "output_type": "display_data"
    }
   ],
   "source": [
    "# make grid takes tensor as arg\n",
    "# tensor : (batchsize, channels, height, width)\n",
    "grid = torchvision.utils.make_grid(images.permute([0, 3, 1, 2]))\n",
    "\n",
    "plt.imshow(grid.numpy().transpose((1, 2, 0)))\n",
    "plt.axis(\"off\")\n",
    "plt.title(labels.numpy());"
   ]
  },
  {
   "cell_type": "markdown",
   "metadata": {},
   "source": [
    "And now with transformations:"
   ]
  },
  {
   "cell_type": "code",
   "execution_count": 15,
   "metadata": {
    "ExecuteTime": {
     "end_time": "2020-02-28T00:13:48.795066Z",
     "start_time": "2020-02-28T00:13:46.451771Z"
    },
    "scrolled": true
   },
   "outputs": [
    {
     "name": "stdout",
     "output_type": "stream",
     "text": [
      "Parsing...\n",
      "found broken img: ./notMNIST_small/F/Q3Jvc3NvdmVyIEJvbGRPYmxpcXVlLnR0Zg==.png [it's ok if <10 images are broken]\n",
      "found broken img: ./notMNIST_small/A/RGVtb2NyYXRpY2FCb2xkT2xkc3R5bGUgQm9sZC50dGY=.png [it's ok if <10 images are broken]\n",
      "Done\n"
     ]
    }
   ],
   "source": [
    "train_dataset_with_transform = DatasetMNIST(transform=torchvision.transforms.ToTensor())"
   ]
  },
  {
   "cell_type": "code",
   "execution_count": 16,
   "metadata": {
    "ExecuteTime": {
     "end_time": "2020-02-28T00:13:48.801336Z",
     "start_time": "2020-02-28T00:13:48.797410Z"
    }
   },
   "outputs": [
    {
     "name": "stdout",
     "output_type": "stream",
     "text": [
      "image shape at the first row : torch.Size([1, 28, 28])\n"
     ]
    }
   ],
   "source": [
    "img, lab = train_dataset_with_transform.__getitem__(0)\n",
    "\n",
    "print(\"image shape at the first row : {}\".format(img.size()))"
   ]
  },
  {
   "cell_type": "code",
   "execution_count": 17,
   "metadata": {
    "ExecuteTime": {
     "end_time": "2020-02-28T00:13:52.064233Z",
     "start_time": "2020-02-28T00:13:52.057623Z"
    }
   },
   "outputs": [
    {
     "name": "stdout",
     "output_type": "stream",
     "text": [
      "<class 'torch.utils.data.dataloader._SingleProcessDataLoaderIter'>\n",
      "images shape on batch size = torch.Size([8, 1, 28, 28])\n",
      "labels shape on batch size = torch.Size([8])\n"
     ]
    }
   ],
   "source": [
    "train_loader_tr = DataLoader(train_dataset_with_transform, batch_size=8, shuffle=True)\n",
    "\n",
    "train_iter_tr = iter(train_loader_tr)\n",
    "print(type(train_iter_tr))\n",
    "\n",
    "images, labels = train_iter_tr.next()\n",
    "\n",
    "print(\"images shape on batch size = {}\".format(images.size()))\n",
    "print(\"labels shape on batch size = {}\".format(labels.size()))"
   ]
  },
  {
   "cell_type": "code",
   "execution_count": 18,
   "metadata": {
    "ExecuteTime": {
     "end_time": "2020-02-28T00:13:53.200621Z",
     "start_time": "2020-02-28T00:13:53.062965Z"
    }
   },
   "outputs": [
    {
     "name": "stderr",
     "output_type": "stream",
     "text": [
      "Clipping input data to the valid range for imshow with RGB data ([0..1] for floats or [0..255] for integers).\n"
     ]
    },
    {
     "data": {
      "image/png": "[encoded data removed]",
      "text/plain": [
       "<Figure size 432x288 with 1 Axes>"
      ]
     },
     "metadata": {
      "needs_background": "light"
     },
     "output_type": "display_data"
    }
   ],
   "source": [
    "grid = torchvision.utils.make_grid(images)\n",
    "\n",
    "plt.imshow(grid.numpy().transpose((1, 2, 0)))\n",
    "plt.axis(\"off\")\n",
    "plt.title(labels.numpy());"
   ]
  },
  {
   "cell_type": "markdown",
   "metadata": {},
   "source": [
    "### Composing several transformations"
   ]
  },
  {
   "cell_type": "markdown",
   "metadata": {},
   "source": [
    "If you want to take data augmentation, you have to make List using `torchvision.transforms.Compose`\n",
    "\n",
    "```\n",
    "class Compose(object):\n",
    "    \"\"\"Composes several transforms together.\n",
    "    Args:\n",
    "        transforms (list of ``Transform`` objects): list of transforms to compose.\n",
    "    Example:\n",
    "        >>> transforms.Compose([\n",
    "        >>>     transforms.CenterCrop(10),\n",
    "        >>>     transforms.ToTensor(),\n",
    "        >>> ])\n",
    "    \"\"\"\n",
    "\n",
    "    def __init__(self, transforms):\n",
    "        self.transforms = transforms\n",
    "\n",
    "    def __call__(self, img):\n",
    "        for t in self.transforms:\n",
    "            img = t(img)\n",
    "        return img\n",
    "\n",
    "    def __repr__(self):\n",
    "        format_string = self.__class__.__name__ + '('\n",
    "        for t in self.transforms:\n",
    "            format_string += '\\n'\n",
    "            format_string += '    {0}'.format(t)\n",
    "        format_string += '\\n)'\n",
    "        return format_string\n",
    "```\n",
    "\n",
    "\n",
    "this function can convert some image by order within `__call__` method."
   ]
  },
  {
   "cell_type": "code",
   "execution_count": 19,
   "metadata": {
    "ExecuteTime": {
     "end_time": "2020-02-28T00:13:54.766219Z",
     "start_time": "2020-02-28T00:13:54.762711Z"
    }
   },
   "outputs": [],
   "source": [
    "class Flatten:\n",
    "    def __call__(self, pic):\n",
    "        return pic.flatten()\n",
    "\n",
    "    def __repr__(self):\n",
    "        return self.__class__.__name__ + \"()\""
   ]
  },
  {
   "cell_type": "code",
   "execution_count": 20,
   "metadata": {
    "ExecuteTime": {
     "end_time": "2020-02-28T00:13:55.430127Z",
     "start_time": "2020-02-28T00:13:55.427338Z"
    }
   },
   "outputs": [],
   "source": [
    "a = Flatten()"
   ]
  },
  {
   "cell_type": "code",
   "execution_count": 21,
   "metadata": {
    "ExecuteTime": {
     "end_time": "2020-02-28T00:13:56.147330Z",
     "start_time": "2020-02-28T00:13:56.143060Z"
    }
   },
   "outputs": [
    {
     "data": {
      "text/plain": [
       "torch.Size([784])"
      ]
     },
     "execution_count": 21,
     "metadata": {},
     "output_type": "execute_result"
    }
   ],
   "source": [
    "a(img).shape"
   ]
  },
  {
   "cell_type": "code",
   "execution_count": 22,
   "metadata": {
    "ExecuteTime": {
     "end_time": "2020-02-28T00:13:56.918185Z",
     "start_time": "2020-02-28T00:13:56.915283Z"
    }
   },
   "outputs": [],
   "source": [
    "new_transform = torchvision.transforms.Compose([torchvision.transforms.ToTensor(), Flatten()])"
   ]
  },
  {
   "cell_type": "markdown",
   "metadata": {},
   "source": [
    "# Putting all together"
   ]
  },
  {
   "cell_type": "code",
   "execution_count": 23,
   "metadata": {
    "ExecuteTime": {
     "end_time": "2020-02-28T09:37:37.781950Z",
     "start_time": "2020-02-28T09:37:37.779388Z"
    }
   },
   "outputs": [],
   "source": [
    "import time\n",
    "\n",
    "from IPython.display import clear_output"
   ]
  },
  {
   "cell_type": "code",
   "execution_count": 24,
   "metadata": {
    "ExecuteTime": {
     "end_time": "2020-02-28T09:37:37.781950Z",
     "start_time": "2020-02-28T09:37:37.779388Z"
    }
   },
   "outputs": [
    {
     "data": {
      "text/plain": [
       "True"
      ]
     },
     "execution_count": 24,
     "metadata": {},
     "output_type": "execute_result"
    }
   ],
   "source": [
    "torch.cuda.is_available()"
   ]
  },
  {
   "cell_type": "code",
   "execution_count": 25,
   "metadata": {
    "ExecuteTime": {
     "end_time": "2020-02-28T00:56:29.075866Z",
     "start_time": "2020-02-28T00:56:29.071564Z"
    }
   },
   "outputs": [
    {
     "data": {
      "text/plain": [
       "device(type='cuda')"
      ]
     },
     "execution_count": 25,
     "metadata": {},
     "output_type": "execute_result"
    }
   ],
   "source": [
    "# use GPU if available\n",
    "device = torch.device(\"cuda\") if torch.cuda.is_available() else torch.device(\"cpu\")\n",
    "device"
   ]
  },
  {
   "cell_type": "code",
   "execution_count": 26,
   "metadata": {
    "ExecuteTime": {
     "end_time": "2020-02-28T09:28:18.459203Z",
     "start_time": "2020-02-28T09:28:18.455997Z"
    }
   },
   "outputs": [],
   "source": [
    "def subset_ind(dataset, ratio: float):\n",
    "    return torch.randint(len(dataset), (int(len(dataset) * ratio), ))"
   ]
  },
  {
   "cell_type": "code",
   "execution_count": 27,
   "metadata": {
    "ExecuteTime": {
     "end_time": "2020-02-28T09:32:54.001780Z",
     "start_time": "2020-02-28T09:32:51.635588Z"
    }
   },
   "outputs": [
    {
     "name": "stdout",
     "output_type": "stream",
     "text": [
      "Parsing...\n",
      "found broken img: ./notMNIST_small/F/Q3Jvc3NvdmVyIEJvbGRPYmxpcXVlLnR0Zg==.png [it's ok if <10 images are broken]\n",
      "found broken img: ./notMNIST_small/A/RGVtb2NyYXRpY2FCb2xkT2xkc3R5bGUgQm9sZC50dGY=.png [it's ok if <10 images are broken]\n",
      "Done\n",
      "\n",
      "\n",
      " dataset size: 2808, labels: [0 1 2 3 4 5 6 7 8 9]\n"
     ]
    }
   ],
   "source": [
    "dataset = DatasetMNIST(\n",
    "    \"./notMNIST_small\",\n",
    "    #   \"AB\",\n",
    "    transform=new_transform,\n",
    ")\n",
    "\n",
    "shrink_inds = subset_ind(dataset, 0.2)\n",
    "dataset = Subset(dataset, shrink_inds)\n",
    "\n",
    "print(f\"\\n\\n dataset size: {len(dataset)}, labels: {np.unique(dataset.dataset.labels)}\")"
   ]
  },
  {
   "cell_type": "code",
   "execution_count": 28,
   "metadata": {
    "ExecuteTime": {
     "end_time": "2020-02-28T09:32:54.028315Z",
     "start_time": "2020-02-28T09:32:54.004282Z"
    }
   },
   "outputs": [
    {
     "name": "stdout",
     "output_type": "stream",
     "text": [
      "  training size: 2295\n",
      "validation size: 561\n"
     ]
    }
   ],
   "source": [
    "val_size = 0.2\n",
    "val_inds = subset_ind(dataset, val_size)\n",
    "\n",
    "train_dataset = Subset(dataset, [i for i in range(len(dataset)) if i not in val_inds])\n",
    "val_dataset = Subset(dataset, val_inds)\n",
    "\n",
    "print(f\"  training size: {len(train_dataset)}\\nvalidation size: {len(val_dataset)}\")"
   ]
  },
  {
   "cell_type": "code",
   "execution_count": 29,
   "metadata": {
    "ExecuteTime": {
     "end_time": "2020-02-28T09:32:59.926520Z",
     "start_time": "2020-02-28T09:32:59.922784Z"
    }
   },
   "outputs": [],
   "source": [
    "batch_size = 32\n",
    "\n",
    "train_loader = DataLoader(train_dataset, batch_size=batch_size, shuffle=True)\n",
    "val_loader = DataLoader(val_dataset, batch_size=batch_size, shuffle=True)\n"
   ]
  },
  {
   "cell_type": "code",
   "execution_count": 30,
   "metadata": {
    "ExecuteTime": {
     "end_time": "2020-02-28T09:33:00.954231Z",
     "start_time": "2020-02-28T09:33:00.947835Z"
    }
   },
   "outputs": [
    {
     "name": "stdout",
     "output_type": "stream",
     "text": [
      "<class 'torch.utils.data.dataloader._SingleProcessDataLoaderIter'>\n",
      "images shape on batch size = torch.Size([32, 784])\n",
      "labels shape on batch size = torch.Size([32])\n"
     ]
    }
   ],
   "source": [
    "train_iter = iter(train_loader)\n",
    "print(type(train_iter))\n",
    "\n",
    "images, labels = train_iter.next()\n",
    "\n",
    "print(\"images shape on batch size = {}\".format(images.size()))\n",
    "print(\"labels shape on batch size = {}\".format(labels.size()))"
   ]
  },
  {
   "cell_type": "code",
   "execution_count": 31,
   "metadata": {
    "ExecuteTime": {
     "end_time": "2020-02-28T09:35:42.679368Z",
     "start_time": "2020-02-28T09:35:42.676594Z"
    }
   },
   "outputs": [],
   "source": [
    "loss_func = nn.CrossEntropyLoss()"
   ]
  },
  {
   "cell_type": "code",
   "execution_count": 39,
   "metadata": {
    "ExecuteTime": {
     "end_time": "2020-02-28T09:35:44.204284Z",
     "start_time": "2020-02-28T09:35:44.199944Z"
    }
   },
   "outputs": [],
   "source": [
    "# create network again just in case\n",
    "model = nn.Sequential(\n",
    "    nn.Linear(784, 10),\n",
    "    nn.Sigmoid(),\n",
    ")\n",
    "model.to(device)\n",
    "\n",
    "opt = torch.optim.Adam(model.parameters(), lr=1e-3)"
   ]
  },
  {
   "cell_type": "code",
   "execution_count": 33,
   "metadata": {
    "ExecuteTime": {
     "end_time": "2020-02-28T09:35:44.204284Z",
     "start_time": "2020-02-28T09:35:44.199944Z"
    }
   },
   "outputs": [
    {
     "data": {
      "text/plain": [
       "'GeForce RTX 2060'"
      ]
     },
     "execution_count": 33,
     "metadata": {},
     "output_type": "execute_result"
    }
   ],
   "source": [
    "torch.cuda.get_device_name(0)"
   ]
  },
  {
   "cell_type": "code",
   "execution_count": 34,
   "metadata": {
    "ExecuteTime": {
     "end_time": "2020-02-28T09:35:44.204284Z",
     "start_time": "2020-02-28T09:35:44.199944Z"
    }
   },
   "outputs": [
    {
     "data": {
      "text/plain": [
       "<torch.utils.data.dataloader.DataLoader at 0x7f56c16cfbe0>"
      ]
     },
     "execution_count": 34,
     "metadata": {},
     "output_type": "execute_result"
    }
   ],
   "source": [
    "train_loader"
   ]
  },
  {
   "cell_type": "code",
   "execution_count": 35,
   "metadata": {
    "ExecuteTime": {
     "end_time": "2020-02-28T09:35:44.204284Z",
     "start_time": "2020-02-28T09:35:44.199944Z"
    }
   },
   "outputs": [],
   "source": [
    "from sklearn.metrics import accuracy_score"
   ]
  },
  {
   "cell_type": "code",
   "execution_count": 107,
   "metadata": {
    "ExecuteTime": {
     "end_time": "2020-02-28T09:33:02.897035Z",
     "start_time": "2020-02-28T09:33:02.884404Z"
    }
   },
   "outputs": [],
   "source": [
    "def train_model(model, train_loader, val_loader, loss_fn, opt, n_epochs: int):\n",
    "    \"\"\"\n",
    "    model: нейросеть для обучения,\n",
    "    train_loader, val_loader: загрузчики данных\n",
    "    loss_fn: целевая метрика (которую будем оптимизировать)\n",
    "    opt: оптимизатор (обновляет веса нейросети)\n",
    "    n_epochs: кол-во эпох, полных проходов датасета\n",
    "    \"\"\"\n",
    "    train_loss = []\n",
    "    val_loss = []\n",
    "    val_accuracy = []\n",
    "\n",
    "    for epoch in range(n_epochs):\n",
    "        ep_train_loss = []\n",
    "        ep_val_loss = []\n",
    "        ep_val_accuracy = []\n",
    "        start_time = time.time()\n",
    "\n",
    "        model.train(True)  # enable dropout / batch_norm training behavior\n",
    "        for X_batch, y_batch in train_loader:\n",
    "            # move data to target device\n",
    "            X_batch = X_batch.to(device)\n",
    "            y_batch = y_batch.to(device)\n",
    "\n",
    "            # train on batch: compute loss, calc grads, perform optimizer step and zero the grads\n",
    "            # Forward pass\n",
    "            preds = model(X_batch)\n",
    "            \n",
    "            # Compute loss\n",
    "            loss = loss_fn(preds, y_batch)\n",
    "            \n",
    "            # Backward pass, compute gradient\n",
    "            loss.backward()\n",
    "            \n",
    "            # Optimization step - train model weights\n",
    "            opt.step()\n",
    "            \n",
    "            # Clear gradients\n",
    "            opt.zero_grad()\n",
    "            \n",
    "            ep_train_loss.append(loss.item())\n",
    "\n",
    "        model.train(False)  # disable dropout / use averages for batch_norm\n",
    "        with torch.no_grad():\n",
    "            for X_batch, y_batch in val_loader:\n",
    "                # move data to target deviceRuntimeError: Tensor for argument #2 'mat1' is on CPU, but expected it to be on GPU (while checking arguments for addmm)\n",
    "                X_batch = X_batch.to(device)\n",
    "                y_batch = y_batch.to(device)\n",
    "                \n",
    "                # preds\n",
    "                preds = model(X_batch)\n",
    "                loss = loss_fn(preds, y_batch)\n",
    "\n",
    "                # compute predictions\n",
    "                ### YOUR CODE HERE\n",
    "                ep_val_loss.append(loss)  # YOUR CODE HERE)\n",
    "                y_pred = preds.argmax(dim=1)  # YOUR CODE HERE\n",
    "                ep_val_accuracy.append(accuracy_score(y_batch.cpu(), y_pred.cpu()))  # YOUR CODE HERE)\n",
    "\n",
    "        # print the results for this epoch:\n",
    "        print(f\"Epoch {epoch + 1} of {n_epochs} took {time.time() - start_time:.3f}s\")\n",
    "\n",
    "        train_loss.append(np.mean(ep_train_loss))\n",
    "\n",
    "        mean_ep_val_loss = torch.mean(torch.stack(ep_val_loss)).tolist()\n",
    "        val_loss.append(mean_ep_val_loss)\n",
    "        val_accuracy.append(np.mean(ep_val_accuracy))\n",
    "\n",
    "        print(f\"\\t  training loss: {train_loss[-1]:.6f}\")\n",
    "        print(f\"\\tvalidation loss: {val_loss[-1]:.6f}\")\n",
    "        print(f\"\\tvalidation accuracy: {val_accuracy[-1]:.3f}\")\n",
    "\n",
    "    return train_loss, val_loss, val_accuracy"
   ]
  },
  {
   "cell_type": "code",
   "execution_count": 42,
   "metadata": {
    "ExecuteTime": {
     "end_time": "2020-02-28T09:33:02.897035Z",
     "start_time": "2020-02-28T09:33:02.884404Z"
    }
   },
   "outputs": [
    {
     "data": {
      "text/plain": [
       "True"
      ]
     },
     "execution_count": 42,
     "metadata": {},
     "output_type": "execute_result"
    }
   ],
   "source": [
    "next(model.parameters()).is_cuda"
   ]
  },
  {
   "cell_type": "code",
   "execution_count": 110,
   "metadata": {
    "ExecuteTime": {
     "end_time": "2020-02-28T09:33:33.252494Z",
     "start_time": "2020-02-28T09:33:28.712014Z"
    },
    "scrolled": true
   },
   "outputs": [
    {
     "name": "stdout",
     "output_type": "stream",
     "text": [
      "Epoch 1 of 30 took 0.085s\n",
      "\t  training loss: 1.499825\n",
      "\tvalidation loss: 1.591293\n",
      "\tvalidation accuracy: 0.875\n",
      "Epoch 2 of 30 took 0.076s\n",
      "\t  training loss: 1.499517\n",
      "\tvalidation loss: 1.594366\n",
      "\tvalidation accuracy: 0.873\n",
      "Epoch 3 of 30 took 0.076s\n",
      "\t  training loss: 1.499829\n",
      "\tvalidation loss: 1.593178\n",
      "\tvalidation accuracy: 0.872\n",
      "Epoch 4 of 30 took 0.081s\n",
      "\t  training loss: 1.499571\n",
      "\tvalidation loss: 1.591345\n",
      "\tvalidation accuracy: 0.877\n",
      "Epoch 5 of 30 took 0.080s\n",
      "\t  training loss: 1.499540\n",
      "\tvalidation loss: 1.595147\n",
      "\tvalidation accuracy: 0.874\n",
      "Epoch 6 of 30 took 0.080s\n",
      "\t  training loss: 1.499327\n",
      "\tvalidation loss: 1.596363\n",
      "\tvalidation accuracy: 0.871\n",
      "Epoch 7 of 30 took 0.082s\n",
      "\t  training loss: 1.499383\n",
      "\tvalidation loss: 1.590056\n",
      "\tvalidation accuracy: 0.875\n",
      "Epoch 8 of 30 took 0.081s\n",
      "\t  training loss: 1.499187\n",
      "\tvalidation loss: 1.591631\n",
      "\tvalidation accuracy: 0.878\n",
      "Epoch 9 of 30 took 0.083s\n",
      "\t  training loss: 1.498984\n",
      "\tvalidation loss: 1.594013\n",
      "\tvalidation accuracy: 0.875\n",
      "Epoch 10 of 30 took 0.087s\n",
      "\t  training loss: 1.499036\n",
      "\tvalidation loss: 1.591277\n",
      "\tvalidation accuracy: 0.879\n",
      "Epoch 11 of 30 took 0.080s\n",
      "\t  training loss: 1.498931\n",
      "\tvalidation loss: 1.595116\n",
      "\tvalidation accuracy: 0.874\n",
      "Epoch 12 of 30 took 0.083s\n",
      "\t  training loss: 1.498845\n",
      "\tvalidation loss: 1.596449\n",
      "\tvalidation accuracy: 0.874\n",
      "Epoch 13 of 30 took 0.084s\n",
      "\t  training loss: 1.498824\n",
      "\tvalidation loss: 1.592878\n",
      "\tvalidation accuracy: 0.879\n",
      "Epoch 14 of 30 took 0.081s\n",
      "\t  training loss: 1.498524\n",
      "\tvalidation loss: 1.594922\n",
      "\tvalidation accuracy: 0.881\n",
      "Epoch 15 of 30 took 0.081s\n",
      "\t  training loss: 1.498478\n",
      "\tvalidation loss: 1.594599\n",
      "\tvalidation accuracy: 0.881\n",
      "Epoch 16 of 30 took 0.085s\n",
      "\t  training loss: 1.498253\n",
      "\tvalidation loss: 1.592806\n",
      "\tvalidation accuracy: 0.879\n",
      "Epoch 17 of 30 took 0.083s\n",
      "\t  training loss: 1.498248\n",
      "\tvalidation loss: 1.596092\n",
      "\tvalidation accuracy: 0.869\n",
      "Epoch 18 of 30 took 0.081s\n",
      "\t  training loss: 1.498361\n",
      "\tvalidation loss: 1.595666\n",
      "\tvalidation accuracy: 0.879\n",
      "Epoch 19 of 30 took 0.083s\n",
      "\t  training loss: 1.498167\n",
      "\tvalidation loss: 1.592363\n",
      "\tvalidation accuracy: 0.882\n",
      "Epoch 20 of 30 took 0.083s\n",
      "\t  training loss: 1.498255\n",
      "\tvalidation loss: 1.593996\n",
      "\tvalidation accuracy: 0.879\n",
      "Epoch 21 of 30 took 0.083s\n",
      "\t  training loss: 1.497943\n",
      "\tvalidation loss: 1.592296\n",
      "\tvalidation accuracy: 0.874\n",
      "Epoch 22 of 30 took 0.085s\n",
      "\t  training loss: 1.497866\n",
      "\tvalidation loss: 1.595061\n",
      "\tvalidation accuracy: 0.879\n",
      "Epoch 23 of 30 took 0.082s\n",
      "\t  training loss: 1.497621\n",
      "\tvalidation loss: 1.594769\n",
      "\tvalidation accuracy: 0.882\n",
      "Epoch 24 of 30 took 0.078s\n",
      "\t  training loss: 1.498168\n",
      "\tvalidation loss: 1.599175\n",
      "\tvalidation accuracy: 0.871\n",
      "Epoch 25 of 30 took 0.077s\n",
      "\t  training loss: 1.497562\n",
      "\tvalidation loss: 1.595703\n",
      "\tvalidation accuracy: 0.877\n",
      "Epoch 26 of 30 took 0.075s\n",
      "\t  training loss: 1.497779\n",
      "\tvalidation loss: 1.592934\n",
      "\tvalidation accuracy: 0.881\n",
      "Epoch 27 of 30 took 0.076s\n",
      "\t  training loss: 1.497385\n",
      "\tvalidation loss: 1.593741\n",
      "\tvalidation accuracy: 0.881\n",
      "Epoch 28 of 30 took 0.083s\n",
      "\t  training loss: 1.497010\n",
      "\tvalidation loss: 1.592994\n",
      "\tvalidation accuracy: 0.881\n",
      "Epoch 29 of 30 took 0.084s\n",
      "\t  training loss: 1.497049\n",
      "\tvalidation loss: 1.591932\n",
      "\tvalidation accuracy: 0.877\n",
      "Epoch 30 of 30 took 0.088s\n",
      "\t  training loss: 1.497341\n",
      "\tvalidation loss: 1.596434\n",
      "\tvalidation accuracy: 0.874\n"
     ]
    }
   ],
   "source": [
    "n_epochs = 30\n",
    "\n",
    "train_loss, val_loss, val_accuracy = train_model(\n",
    "    model, train_loader, val_loader, loss_func, opt, n_epochs\n",
    ")"
   ]
  },
  {
   "cell_type": "code",
   "execution_count": 111,
   "metadata": {
    "ExecuteTime": {
     "end_time": "2020-02-28T09:33:35.242213Z",
     "start_time": "2020-02-28T09:33:35.237045Z"
    }
   },
   "outputs": [],
   "source": [
    "def plot_train_process(train_loss, val_loss, val_accuracy):\n",
    "    fig, axes = plt.subplots(1, 2, figsize=(15, 5))\n",
    "\n",
    "    axes[0].set_title(\"Loss\")\n",
    "    axes[0].plot(train_loss, label=\"train\")\n",
    "    axes[0].plot(val_loss, label=\"validation\")\n",
    "    axes[0].legend()\n",
    "\n",
    "    axes[1].set_title(\"Validation accuracy\")\n",
    "    axes[1].plot(val_accuracy)"
   ]
  },
  {
   "cell_type": "code",
   "execution_count": 112,
   "metadata": {
    "ExecuteTime": {
     "end_time": "2020-02-28T09:33:36.057391Z",
     "start_time": "2020-02-28T09:33:35.611228Z"
    }
   },
   "outputs": [
    {
     "data": {
      "image/png": "[encoded data removed]",
      "text/plain": [
       "<Figure size 1080x360 with 2 Axes>"
      ]
     },
     "metadata": {
      "needs_background": "light"
     },
     "output_type": "display_data"
    }
   ],
   "source": [
    "plot_train_process(train_loss, val_loss, val_accuracy)"
   ]
  },
  {
   "cell_type": "markdown",
   "metadata": {},
   "source": [
    "## Real network"
   ]
  },
  {
   "cell_type": "code",
   "execution_count": 113,
   "metadata": {
    "ExecuteTime": {
     "end_time": "2020-02-28T09:44:50.420339Z",
     "start_time": "2020-02-28T09:44:50.406364Z"
    }
   },
   "outputs": [],
   "source": [
    "# create network again just in case\n",
    "model = nn.Sequential(\n",
    "    nn.Linear(784, 500),\n",
    "    nn.ReLU(),\n",
    "    nn.Linear(500, 200),\n",
    "    nn.ReLU(),\n",
    "    nn.Linear(200, 10),\n",
    "    nn.Sigmoid(),\n",
    ")\n",
    "model.to(device, torch.float32)\n",
    "\n",
    "opt = torch.optim.Adam(model.parameters(), lr=1e-3)"
   ]
  },
  {
   "cell_type": "code",
   "execution_count": 114,
   "metadata": {
    "ExecuteTime": {
     "end_time": "2020-02-28T09:45:08.145156Z",
     "start_time": "2020-02-28T09:44:52.924801Z"
    },
    "scrolled": true
   },
   "outputs": [
    {
     "name": "stdout",
     "output_type": "stream",
     "text": [
      "Epoch 1 of 30 took 0.129s\n",
      "\t  training loss: 1.734707\n",
      "\tvalidation loss: 1.612548\n",
      "\tvalidation accuracy: 0.783\n",
      "Epoch 2 of 30 took 0.114s\n",
      "\t  training loss: 1.582587\n",
      "\tvalidation loss: 1.582664\n",
      "\tvalidation accuracy: 0.867\n",
      "Epoch 3 of 30 took 0.117s\n",
      "\t  training loss: 1.548743\n",
      "\tvalidation loss: 1.582069\n",
      "\tvalidation accuracy: 0.865\n",
      "Epoch 4 of 30 took 0.115s\n",
      "\t  training loss: 1.533446\n",
      "\tvalidation loss: 1.560900\n",
      "\tvalidation accuracy: 0.886\n",
      "Epoch 5 of 30 took 0.120s\n",
      "\t  training loss: 1.518037\n",
      "\tvalidation loss: 1.567576\n",
      "\tvalidation accuracy: 0.877\n",
      "Epoch 6 of 30 took 0.115s\n",
      "\t  training loss: 1.514280\n",
      "\tvalidation loss: 1.560372\n",
      "\tvalidation accuracy: 0.881\n",
      "Epoch 7 of 30 took 0.118s\n",
      "\t  training loss: 1.505681\n",
      "\tvalidation loss: 1.559169\n",
      "\tvalidation accuracy: 0.895\n",
      "Epoch 8 of 30 took 0.114s\n",
      "\t  training loss: 1.501916\n",
      "\tvalidation loss: 1.566900\n",
      "\tvalidation accuracy: 0.884\n",
      "Epoch 9 of 30 took 0.118s\n",
      "\t  training loss: 1.500961\n",
      "\tvalidation loss: 1.567923\n",
      "\tvalidation accuracy: 0.893\n",
      "Epoch 10 of 30 took 0.116s\n",
      "\t  training loss: 1.495756\n",
      "\tvalidation loss: 1.556830\n",
      "\tvalidation accuracy: 0.893\n",
      "Epoch 11 of 30 took 0.122s\n",
      "\t  training loss: 1.494767\n",
      "\tvalidation loss: 1.556225\n",
      "\tvalidation accuracy: 0.898\n",
      "Epoch 12 of 30 took 0.129s\n",
      "\t  training loss: 1.497389\n",
      "\tvalidation loss: 1.568359\n",
      "\tvalidation accuracy: 0.889\n",
      "Epoch 13 of 30 took 0.122s\n",
      "\t  training loss: 1.499918\n",
      "\tvalidation loss: 1.579326\n",
      "\tvalidation accuracy: 0.881\n",
      "Epoch 14 of 30 took 0.117s\n",
      "\t  training loss: 1.496429\n",
      "\tvalidation loss: 1.573063\n",
      "\tvalidation accuracy: 0.887\n",
      "Epoch 15 of 30 took 0.117s\n",
      "\t  training loss: 1.500254\n",
      "\tvalidation loss: 1.563229\n",
      "\tvalidation accuracy: 0.900\n",
      "Epoch 16 of 30 took 0.121s\n",
      "\t  training loss: 1.491581\n",
      "\tvalidation loss: 1.571375\n",
      "\tvalidation accuracy: 0.873\n",
      "Epoch 17 of 30 took 0.116s\n",
      "\t  training loss: 1.493402\n",
      "\tvalidation loss: 1.566724\n",
      "\tvalidation accuracy: 0.881\n",
      "Epoch 18 of 30 took 0.112s\n",
      "\t  training loss: 1.490085\n",
      "\tvalidation loss: 1.564402\n",
      "\tvalidation accuracy: 0.879\n",
      "Epoch 19 of 30 took 0.118s\n",
      "\t  training loss: 1.491478\n",
      "\tvalidation loss: 1.568714\n",
      "\tvalidation accuracy: 0.881\n",
      "Epoch 20 of 30 took 0.121s\n",
      "\t  training loss: 1.485978\n",
      "\tvalidation loss: 1.570985\n",
      "\tvalidation accuracy: 0.879\n",
      "Epoch 21 of 30 took 0.126s\n",
      "\t  training loss: 1.484690\n",
      "\tvalidation loss: 1.566258\n",
      "\tvalidation accuracy: 0.886\n",
      "Epoch 22 of 30 took 0.123s\n",
      "\t  training loss: 1.487736\n",
      "\tvalidation loss: 1.560057\n",
      "\tvalidation accuracy: 0.903\n",
      "Epoch 23 of 30 took 0.124s\n",
      "\t  training loss: 1.491664\n",
      "\tvalidation loss: 1.568983\n",
      "\tvalidation accuracy: 0.872\n",
      "Epoch 24 of 30 took 0.117s\n",
      "\t  training loss: 1.490653\n",
      "\tvalidation loss: 1.571478\n",
      "\tvalidation accuracy: 0.877\n",
      "Epoch 25 of 30 took 0.119s\n",
      "\t  training loss: 1.492562\n",
      "\tvalidation loss: 1.565863\n",
      "\tvalidation accuracy: 0.888\n",
      "Epoch 26 of 30 took 0.119s\n",
      "\t  training loss: 1.487510\n",
      "\tvalidation loss: 1.552901\n",
      "\tvalidation accuracy: 0.903\n",
      "Epoch 27 of 30 took 0.119s\n",
      "\t  training loss: 1.490051\n",
      "\tvalidation loss: 1.572195\n",
      "\tvalidation accuracy: 0.890\n",
      "Epoch 28 of 30 took 0.118s\n",
      "\t  training loss: 1.487557\n",
      "\tvalidation loss: 1.578951\n",
      "\tvalidation accuracy: 0.887\n",
      "Epoch 29 of 30 took 0.120s\n",
      "\t  training loss: 1.497166\n",
      "\tvalidation loss: 1.568918\n",
      "\tvalidation accuracy: 0.881\n",
      "Epoch 30 of 30 took 0.117s\n",
      "\t  training loss: 1.488411\n",
      "\tvalidation loss: 1.576257\n",
      "\tvalidation accuracy: 0.872\n"
     ]
    }
   ],
   "source": [
    "n_epochs = 30\n",
    "\n",
    "train_loss, val_loss, val_accuracy = train_model(\n",
    "    model, train_loader, val_loader, loss_func, opt, n_epochs\n",
    ")"
   ]
  },
  {
   "cell_type": "code",
   "execution_count": 115,
   "metadata": {
    "ExecuteTime": {
     "end_time": "2020-02-28T09:45:13.396284Z",
     "start_time": "2020-02-28T09:45:13.032994Z"
    }
   },
   "outputs": [
    {
     "data": {
      "image/png": "[encoded data removed]",
      "text/plain": [
       "<Figure size 1080x360 with 2 Axes>"
      ]
     },
     "metadata": {
      "needs_background": "light"
     },
     "output_type": "display_data"
    }
   ],
   "source": [
    "plot_train_process(train_loss, val_loss, val_accuracy)"
   ]
  },
  {
   "cell_type": "markdown",
   "metadata": {},
   "source": [
    "## Overfit!!!"
   ]
  },
  {
   "cell_type": "code",
   "execution_count": 122,
   "metadata": {
    "ExecuteTime": {
     "end_time": "2020-02-28T10:03:53.482972Z",
     "start_time": "2020-02-28T10:03:53.472190Z"
    }
   },
   "outputs": [],
   "source": [
    "# create network again just in case\n",
    "model = nn.Sequential(\n",
    "    nn.Linear(784, 600),\n",
    "    nn.ReLU(),\n",
    "    nn.Linear(600, 500),\n",
    "    nn.ReLU(),\n",
    "    nn.Linear(500, 500),\n",
    "    nn.ReLU(),\n",
    "    nn.Linear(500, 200),\n",
    "    nn.ReLU(),\n",
    "    nn.Linear(200, 10),\n",
    "    nn.Sigmoid(),\n",
    ")\n",
    "model.to(device, torch.float32)\n",
    "\n",
    "opt = torch.optim.Adam(model.parameters(), lr=1e-3)"
   ]
  },
  {
   "cell_type": "code",
   "execution_count": 123,
   "metadata": {
    "ExecuteTime": {
     "end_time": "2020-02-28T10:04:11.834052Z",
     "start_time": "2020-02-28T10:03:55.005294Z"
    },
    "scrolled": true
   },
   "outputs": [
    {
     "name": "stdout",
     "output_type": "stream",
     "text": [
      "Epoch 1 of 30 took 0.161s\n",
      "\t  training loss: 1.781824\n",
      "\tvalidation loss: 1.660015\n",
      "\tvalidation accuracy: 0.763\n",
      "Epoch 2 of 30 took 0.153s\n",
      "\t  training loss: 1.636663\n",
      "\tvalidation loss: 1.642532\n",
      "\tvalidation accuracy: 0.678\n",
      "Epoch 3 of 30 took 0.156s\n",
      "\t  training loss: 1.615513\n",
      "\tvalidation loss: 1.613765\n",
      "\tvalidation accuracy: 0.748\n",
      "Epoch 4 of 30 took 0.151s\n",
      "\t  training loss: 1.609553\n",
      "\tvalidation loss: 1.605533\n",
      "\tvalidation accuracy: 0.773\n",
      "Epoch 5 of 30 took 0.152s\n",
      "\t  training loss: 1.602927\n",
      "\tvalidation loss: 1.633564\n",
      "\tvalidation accuracy: 0.692\n",
      "Epoch 6 of 30 took 0.154s\n",
      "\t  training loss: 1.615995\n",
      "\tvalidation loss: 1.623312\n",
      "\tvalidation accuracy: 0.674\n",
      "Epoch 7 of 30 took 0.152s\n",
      "\t  training loss: 1.612478\n",
      "\tvalidation loss: 1.632328\n",
      "\tvalidation accuracy: 0.645\n",
      "Epoch 8 of 30 took 0.149s\n",
      "\t  training loss: 1.626819\n",
      "\tvalidation loss: 1.636531\n",
      "\tvalidation accuracy: 0.668\n",
      "Epoch 9 of 30 took 0.156s\n",
      "\t  training loss: 1.628291\n",
      "\tvalidation loss: 1.667125\n",
      "\tvalidation accuracy: 0.608\n",
      "Epoch 10 of 30 took 0.158s\n",
      "\t  training loss: 1.626469\n",
      "\tvalidation loss: 1.644669\n",
      "\tvalidation accuracy: 0.666\n",
      "Epoch 11 of 30 took 0.165s\n",
      "\t  training loss: 1.652890\n",
      "\tvalidation loss: 1.742404\n",
      "\tvalidation accuracy: 0.588\n",
      "Epoch 12 of 30 took 0.156s\n",
      "\t  training loss: 1.668511\n",
      "\tvalidation loss: 1.689809\n",
      "\tvalidation accuracy: 0.495\n",
      "Epoch 13 of 30 took 0.149s\n",
      "\t  training loss: 1.679207\n",
      "\tvalidation loss: 1.665776\n",
      "\tvalidation accuracy: 0.614\n",
      "Epoch 14 of 30 took 0.147s\n",
      "\t  training loss: 1.619814\n",
      "\tvalidation loss: 1.653605\n",
      "\tvalidation accuracy: 0.640\n",
      "Epoch 15 of 30 took 0.153s\n",
      "\t  training loss: 1.646090\n",
      "\tvalidation loss: 1.673349\n",
      "\tvalidation accuracy: 0.624\n",
      "Epoch 16 of 30 took 0.149s\n",
      "\t  training loss: 1.654489\n",
      "\tvalidation loss: 1.715672\n",
      "\tvalidation accuracy: 0.506\n",
      "Epoch 17 of 30 took 0.150s\n",
      "\t  training loss: 1.688930\n",
      "\tvalidation loss: 1.702700\n",
      "\tvalidation accuracy: 0.597\n",
      "Epoch 18 of 30 took 0.153s\n",
      "\t  training loss: 1.770724\n",
      "\tvalidation loss: 1.843068\n",
      "\tvalidation accuracy: 0.391\n",
      "Epoch 19 of 30 took 0.153s\n",
      "\t  training loss: 1.765016\n",
      "\tvalidation loss: 1.731399\n",
      "\tvalidation accuracy: 0.520\n",
      "Epoch 20 of 30 took 0.151s\n",
      "\t  training loss: 1.712563\n",
      "\tvalidation loss: 1.727651\n",
      "\tvalidation accuracy: 0.590\n",
      "Epoch 21 of 30 took 0.153s\n",
      "\t  training loss: 1.702812\n",
      "\tvalidation loss: 1.698202\n",
      "\tvalidation accuracy: 0.593\n",
      "Epoch 22 of 30 took 0.151s\n",
      "\t  training loss: 1.696279\n",
      "\tvalidation loss: 1.691783\n",
      "\tvalidation accuracy: 0.543\n",
      "Epoch 23 of 30 took 0.156s\n",
      "\t  training loss: 1.692323\n",
      "\tvalidation loss: 1.680027\n",
      "\tvalidation accuracy: 0.580\n",
      "Epoch 24 of 30 took 0.153s\n",
      "\t  training loss: 1.726166\n",
      "\tvalidation loss: 1.790107\n",
      "\tvalidation accuracy: 0.552\n",
      "Epoch 25 of 30 took 0.150s\n",
      "\t  training loss: 1.756360\n",
      "\tvalidation loss: 1.756328\n",
      "\tvalidation accuracy: 0.593\n",
      "Epoch 26 of 30 took 0.151s\n",
      "\t  training loss: 1.732935\n",
      "\tvalidation loss: 1.757209\n",
      "\tvalidation accuracy: 0.561\n",
      "Epoch 27 of 30 took 0.148s\n",
      "\t  training loss: 1.734499\n",
      "\tvalidation loss: 1.739767\n",
      "\tvalidation accuracy: 0.588\n",
      "Epoch 28 of 30 took 0.148s\n",
      "\t  training loss: 1.739083\n",
      "\tvalidation loss: 1.768761\n",
      "\tvalidation accuracy: 0.592\n",
      "Epoch 29 of 30 took 0.153s\n",
      "\t  training loss: 1.766659\n",
      "\tvalidation loss: 1.841177\n",
      "\tvalidation accuracy: 0.470\n",
      "Epoch 30 of 30 took 0.150s\n",
      "\t  training loss: 1.784180\n",
      "\tvalidation loss: 1.805146\n",
      "\tvalidation accuracy: 0.599\n"
     ]
    }
   ],
   "source": [
    "n_epochs = 30\n",
    "\n",
    "train_loss, val_loss, val_accuracy = train_model(\n",
    "    model, train_loader, val_loader, loss_func, opt, n_epochs\n",
    ")"
   ]
  },
  {
   "cell_type": "code",
   "execution_count": 124,
   "metadata": {
    "ExecuteTime": {
     "end_time": "2020-02-28T10:10:20.888744Z",
     "start_time": "2020-02-28T10:10:20.487942Z"
    }
   },
   "outputs": [
    {
     "data": {
      "image/png": "[encoded data removed]",
      "text/plain": [
       "<Figure size 1080x360 with 2 Axes>"
      ]
     },
     "metadata": {
      "needs_background": "light"
     },
     "output_type": "display_data"
    }
   ],
   "source": [
    "plot_train_process(train_loss, val_loss, val_accuracy)"
   ]
  },
  {
   "cell_type": "markdown",
   "metadata": {},
   "source": [
    "## Your turn\n",
    "Try to add some additional transformations (e.g. random crop, rotation etc.) and train your model!"
   ]
  },
  {
   "cell_type": "markdown",
   "metadata": {},
   "source": [
    "### Dropout try"
   ]
  },
  {
   "cell_type": "code",
   "execution_count": null,
   "metadata": {},
   "outputs": [],
   "source": []
  },
  {
   "cell_type": "markdown",
   "metadata": {},
   "source": [
    "### Batchnorm try"
   ]
  },
  {
   "cell_type": "code",
   "execution_count": null,
   "metadata": {},
   "outputs": [],
   "source": []
  },
  {
   "cell_type": "markdown",
   "metadata": {},
   "source": [
    "### 3. Save the model (model checkpointing)\n",
    "\n",
    "Now we have trained a model! Obviously we do not want to retrain the model everytime we want to use it. Plus if you are training a super big model, you probably want to save checkpoint periodically so that you can always fall back to the last checkpoint in case something bad happened or you simply want to test models at different training iterations.\n",
    "\n",
    "Model checkpointing is fairly simple in PyTorch. First, we define a helper function that can save a model to the disk"
   ]
  },
  {
   "cell_type": "code",
   "execution_count": 125,
   "metadata": {},
   "outputs": [],
   "source": [
    "def save_checkpoint(checkpoint_path, model, optimizer):\n",
    "    # state_dict: a Python dictionary object that:\n",
    "    # - for a model, maps each layer to its parameter tensor;\n",
    "    # - for an optimizer, contains info about the optimizer’s states and hyperparameters used.\n",
    "    state = {\"state_dict\": model.state_dict(), \"optimizer\": optimizer.state_dict()}\n",
    "    torch.save(state, checkpoint_path)\n",
    "    print(\"model saved to %s\" % checkpoint_path)\n",
    "\n",
    "\n",
    "def load_checkpoint(checkpoint_path, model, optimizer):\n",
    "    state = torch.load(checkpoint_path)\n",
    "    model.load_state_dict(state[\"state_dict\"])\n",
    "    optimizer.load_state_dict(state[\"optimizer\"])\n",
    "    print(\"model loaded from %s\" % checkpoint_path)"
   ]
  },
  {
   "cell_type": "code",
   "execution_count": 126,
   "metadata": {},
   "outputs": [
    {
     "ename": "NameError",
     "evalue": "name 'Net' is not defined",
     "output_type": "error",
     "traceback": [
      "\u001b[0;31m---------------------------------------------------------------------------\u001b[0m",
      "\u001b[0;31mNameError\u001b[0m                                 Traceback (most recent call last)",
      "\u001b[0;32m<ipython-input-126-8d5190dfdb96>\u001b[0m in \u001b[0;36m<module>\u001b[0;34m\u001b[0m\n\u001b[1;32m      1\u001b[0m \u001b[0;31m# create a brand new model\u001b[0m\u001b[0;34m\u001b[0m\u001b[0;34m\u001b[0m\u001b[0;34m\u001b[0m\u001b[0m\n\u001b[0;32m----> 2\u001b[0;31m \u001b[0mmodel\u001b[0m \u001b[0;34m=\u001b[0m \u001b[0mNet\u001b[0m\u001b[0;34m(\u001b[0m\u001b[0;34m)\u001b[0m\u001b[0;34m.\u001b[0m\u001b[0mto\u001b[0m\u001b[0;34m(\u001b[0m\u001b[0mdevice\u001b[0m\u001b[0;34m)\u001b[0m\u001b[0;34m\u001b[0m\u001b[0;34m\u001b[0m\u001b[0m\n\u001b[0m\u001b[1;32m      3\u001b[0m \u001b[0moptimizer\u001b[0m \u001b[0;34m=\u001b[0m \u001b[0moptim\u001b[0m\u001b[0;34m.\u001b[0m\u001b[0mSGD\u001b[0m\u001b[0;34m(\u001b[0m\u001b[0mmodel\u001b[0m\u001b[0;34m.\u001b[0m\u001b[0mparameters\u001b[0m\u001b[0;34m(\u001b[0m\u001b[0;34m)\u001b[0m\u001b[0;34m,\u001b[0m \u001b[0mlr\u001b[0m\u001b[0;34m=\u001b[0m\u001b[0;36m0.001\u001b[0m\u001b[0;34m,\u001b[0m \u001b[0mmomentum\u001b[0m\u001b[0;34m=\u001b[0m\u001b[0;36m0.9\u001b[0m\u001b[0;34m)\u001b[0m\u001b[0;34m\u001b[0m\u001b[0;34m\u001b[0m\u001b[0m\n\u001b[1;32m      4\u001b[0m \u001b[0;31m# Testing -- you should get a pretty poor performance since the model hasn't learned anything yet.\u001b[0m\u001b[0;34m\u001b[0m\u001b[0;34m\u001b[0m\u001b[0;34m\u001b[0m\u001b[0m\n\u001b[1;32m      5\u001b[0m \u001b[0mtest\u001b[0m\u001b[0;34m(\u001b[0m\u001b[0;34m)\u001b[0m\u001b[0;34m\u001b[0m\u001b[0;34m\u001b[0m\u001b[0m\n",
      "\u001b[0;31mNameError\u001b[0m: name 'Net' is not defined"
     ]
    }
   ],
   "source": [
    "# create a brand new model\n",
    "model = Net().to(device)\n",
    "optimizer = optim.SGD(model.parameters(), lr=0.001, momentum=0.9)\n",
    "# Testing -- you should get a pretty poor performance since the model hasn't learned anything yet.\n",
    "test()"
   ]
  },
  {
   "cell_type": "markdown",
   "metadata": {},
   "source": [
    "#### Define a training loop with model checkpointing"
   ]
  },
  {
   "cell_type": "code",
   "execution_count": null,
   "metadata": {},
   "outputs": [],
   "source": [
    "def train_save(epoch, save_interval, log_interval=100):\n",
    "    model.train()  # set training mode\n",
    "    iteration = 0\n",
    "    for ep in range(epoch):\n",
    "        for batch_idx, (data, target) in enumerate(trainset_loader):\n",
    "            data, target = data.to(device), target.to(device)\n",
    "            optimizer.zero_grad()\n",
    "            output = model(data)\n",
    "            loss = F.nll_loss(output, target)\n",
    "            loss.backward()\n",
    "            optimizer.step()\n",
    "            if iteration % log_interval == 0:\n",
    "                print(\n",
    "                    \"Train Epoch: {} [{}/{} ({:.0f}%)]\\tLoss: {:.6f}\".format(\n",
    "                        ep,\n",
    "                        batch_idx * len(data),\n",
    "                        len(trainset_loader.dataset),\n",
    "                        100.0 * batch_idx / len(trainset_loader),\n",
    "                        loss.item(),\n",
    "                    )\n",
    "                )\n",
    "            # different from before: saving model checkpoints\n",
    "            if iteration % save_interval == 0 and iteration > 0:\n",
    "                save_checkpoint(\"mnist-%i.pth\" % iteration, model, optimizer)\n",
    "            iteration += 1\n",
    "        test()\n",
    "\n",
    "    # save the final model\n",
    "    save_checkpoint(\"mnist-%i.pth\" % iteration, model, optimizer)"
   ]
  },
  {
   "cell_type": "code",
   "execution_count": null,
   "metadata": {},
   "outputs": [],
   "source": [
    "train_save(5, save_interval=500, log_interval=100)"
   ]
  },
  {
   "cell_type": "code",
   "execution_count": null,
   "metadata": {},
   "outputs": [],
   "source": [
    "# create a new model\n",
    "model = Net().to(device)\n",
    "optimizer = optim.SGD(model.parameters(), lr=0.001, momentum=0.9)\n",
    "# load from the final checkpoint\n",
    "load_checkpoint(\"mnist-4690.pth\", model, optimizer)\n",
    "# should give you the final model accuracy\n",
    "test()"
   ]
  },
  {
   "cell_type": "markdown",
   "metadata": {},
   "source": [
    "### More about pytorch:\n",
    "* Using torch on GPU and multi-GPU - [link](http://pytorch.org/docs/master/notes/cuda.html)\n",
    "* More tutorials on pytorch - [link](http://pytorch.org/tutorials/beginner/deep_learning_60min_blitz.html)\n",
    "* Pytorch examples - a repo that implements many cool DL models in pytorch - [link](https://github.com/pytorch/examples)\n",
    "* Practical pytorch - a repo that implements some... other cool DL models... yes, in pytorch - [link](https://github.com/spro/practical-pytorch)\n",
    "* And some more - [link](https://www.reddit.com/r/pytorch/comments/6z0yeo/pytorch_and_pytorch_tricks_for_kaggle/)"
   ]
  }
 ],
 "metadata": {
  "kernelspec": {
   "display_name": "Python 3.8 (pytorch)",
   "language": "python",
   "name": "pytorch"
  },
  "language_info": {
   "codemirror_mode": {
    "name": "ipython",
    "version": 3
   },
   "file_extension": ".py",
   "mimetype": "text/x-python",
   "name": "python",
   "nbconvert_exporter": "python",
   "pygments_lexer": "ipython3",
   "version": "3.8.8"
  },
  "toc": {
   "base_numbering": 1,
   "nav_menu": {},
   "number_sections": true,
   "sideBar": true,
   "skip_h1_title": false,
   "title_cell": "Table of Contents",
   "title_sidebar": "Contents",
   "toc_cell": false,
   "toc_position": {},
   "toc_section_display": true,
   "toc_window_display": true
  }
 },
 "nbformat": 4,
 "nbformat_minor": 2
}
