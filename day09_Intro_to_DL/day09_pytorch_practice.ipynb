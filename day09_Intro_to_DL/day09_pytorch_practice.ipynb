{
 "cells": [
  {
   "cell_type": "markdown",
   "metadata": {
    "colab_type": "text",
    "id": "-nEtOTFPos11"
   },
   "source": [
    "# week0_09: Once again, what is PyTorch?\n",
    "\n",
    "It’s a Python-based scientific computing package targeted at two sets of audiences:\n",
    "\n",
    "-  A replacement for NumPy to use the power of GPUs\n",
    "-  a deep learning research platform that provides maximum flexibility and speed\n",
    "\n",
    "Getting Started\n",
    "---------------\n",
    "\n",
    "**Tensors**\n",
    "\n",
    "Tensors are similar to NumPy’s ndarrays, with the addition being that\n",
    "Tensors can also be used on a GPU to accelerate computing.\n",
    "\n"
   ]
  },
  {
   "cell_type": "markdown",
   "metadata": {},
   "source": [
    "_Credits: First two parts of this notebook are based on PyTorch official_ [tensor](https://pytorch.org/tutorials/beginner/blitz/tensor_tutorial.html#sphx-glr-beginner-blitz-tensor-tutorial-py) _and_ [autograd](https://pytorch.org/tutorials/beginner/blitz/autograd_tutorial.html#sphx-glr-beginner-blitz-autograd-tutorial-py) _tutorials._"
   ]
  },
  {
   "cell_type": "code",
   "execution_count": 1,
   "metadata": {
    "ExecuteTime": {
     "end_time": "2021-03-25T07:44:50.004422Z",
     "start_time": "2021-03-25T07:44:49.377035Z"
    },
    "colab": {},
    "colab_type": "code",
    "id": "wCg57jzaos12"
   },
   "outputs": [],
   "source": [
    "import torch"
   ]
  },
  {
   "cell_type": "markdown",
   "metadata": {
    "colab_type": "text",
    "id": "y2XO1pKzos17"
   },
   "source": [
    "Construct a 5x3 matrix, uninitialized:\n",
    "\n"
   ]
  },
  {
   "cell_type": "code",
   "execution_count": 2,
   "metadata": {
    "ExecuteTime": {
     "end_time": "2021-03-25T07:44:50.031085Z",
     "start_time": "2021-03-25T07:44:50.005970Z"
    },
    "colab": {},
    "colab_type": "code",
    "id": "z4hzsf2Zos2A"
   },
   "outputs": [
    {
     "name": "stdout",
     "output_type": "stream",
     "text": [
      "tensor([[2.7518e+12, 7.5338e+28, 1.1703e-19],\n",
      "        [7.2128e+22, 9.2216e+29, 7.5546e+31],\n",
      "        [1.6932e+22, 3.0728e+32, 7.1429e+31],\n",
      "        [6.2618e+22, 4.7428e+30, 7.1429e+31],\n",
      "        [2.7518e+12, 7.5338e+28, 2.6071e+20]])\n"
     ]
    }
   ],
   "source": [
    "x = torch.empty(5, 3)\n",
    "print(x)"
   ]
  },
  {
   "cell_type": "markdown",
   "metadata": {
    "colab_type": "text",
    "id": "s1UXUAyfos2G"
   },
   "source": [
    "Construct a randomly initialized matrix:\n",
    "\n"
   ]
  },
  {
   "cell_type": "code",
   "execution_count": 3,
   "metadata": {
    "ExecuteTime": {
     "end_time": "2021-03-25T07:44:50.213418Z",
     "start_time": "2021-03-25T07:44:50.208186Z"
    },
    "colab": {},
    "colab_type": "code",
    "id": "2pZuhVZdos2I"
   },
   "outputs": [
    {
     "name": "stdout",
     "output_type": "stream",
     "text": [
      "tensor([[0.0567, 0.0821, 0.5244],\n",
      "        [0.5788, 0.9076, 0.7210],\n",
      "        [0.8567, 0.3355, 0.1518],\n",
      "        [0.6984, 0.2566, 0.3627],\n",
      "        [0.9345, 0.5206, 0.9952]])\n"
     ]
    }
   ],
   "source": [
    "x = torch.rand(5, 3)\n",
    "print(x)"
   ]
  },
  {
   "cell_type": "markdown",
   "metadata": {
    "colab_type": "text",
    "id": "XDuGrzjJos2O"
   },
   "source": [
    "Construct a matrix filled zeros and of dtype long:\n",
    "\n"
   ]
  },
  {
   "cell_type": "code",
   "execution_count": 4,
   "metadata": {
    "ExecuteTime": {
     "end_time": "2021-03-25T07:44:50.549516Z",
     "start_time": "2021-03-25T07:44:50.545546Z"
    },
    "colab": {},
    "colab_type": "code",
    "id": "d7RuB4xhos2P"
   },
   "outputs": [
    {
     "name": "stdout",
     "output_type": "stream",
     "text": [
      "tensor([[0, 0, 0],\n",
      "        [0, 0, 0],\n",
      "        [0, 0, 0],\n",
      "        [0, 0, 0],\n",
      "        [0, 0, 0]])\n"
     ]
    }
   ],
   "source": [
    "x = torch.zeros(5, 3, dtype=torch.long)\n",
    "print(x)"
   ]
  },
  {
   "cell_type": "markdown",
   "metadata": {
    "colab_type": "text",
    "id": "dh6Esa3Fos2W"
   },
   "source": [
    "Construct a tensor directly from data:\n",
    "\n"
   ]
  },
  {
   "cell_type": "code",
   "execution_count": 5,
   "metadata": {
    "ExecuteTime": {
     "end_time": "2021-03-25T07:44:51.299248Z",
     "start_time": "2021-03-25T07:44:51.296532Z"
    },
    "colab": {},
    "colab_type": "code",
    "id": "RnInKPIQos2X"
   },
   "outputs": [
    {
     "name": "stdout",
     "output_type": "stream",
     "text": [
      "tensor([5.5000, 3.0000])\n"
     ]
    }
   ],
   "source": [
    "x = torch.tensor([5.5, 3])\n",
    "print(x)"
   ]
  },
  {
   "cell_type": "markdown",
   "metadata": {
    "colab_type": "text",
    "id": "vMJZ3uZQos2q"
   },
   "source": [
    "or create a tensor based on an existing tensor. These methods\n",
    "will reuse properties of the input tensor, e.g. dtype, unless\n",
    "new values are provided by user\n",
    "\n"
   ]
  },
  {
   "cell_type": "code",
   "execution_count": 6,
   "metadata": {
    "ExecuteTime": {
     "end_time": "2021-03-25T07:44:52.052262Z",
     "start_time": "2021-03-25T07:44:52.047903Z"
    },
    "colab": {},
    "colab_type": "code",
    "id": "bKfLS4Mios2r"
   },
   "outputs": [
    {
     "name": "stdout",
     "output_type": "stream",
     "text": [
      "tensor([[1., 1., 1.],\n",
      "        [1., 1., 1.],\n",
      "        [1., 1., 1.],\n",
      "        [1., 1., 1.],\n",
      "        [1., 1., 1.]], dtype=torch.float64)\n",
      "tensor([[ 1.3135, -0.3603,  0.9607],\n",
      "        [-0.6378,  0.5928,  0.1116],\n",
      "        [ 1.1320,  0.1877,  0.7030],\n",
      "        [ 0.1806,  2.2199,  0.3871],\n",
      "        [ 0.3883,  0.6989, -0.8333]])\n"
     ]
    }
   ],
   "source": [
    "x = x.new_ones(5, 3, dtype=torch.double)  # new_* methods take in sizes\n",
    "print(x)\n",
    "\n",
    "x = torch.randn_like(x, dtype=torch.float)  # override dtype!\n",
    "print(x)  # result has the same size"
   ]
  },
  {
   "cell_type": "code",
   "execution_count": 7,
   "metadata": {
    "ExecuteTime": {
     "end_time": "2021-03-25T07:44:53.123766Z",
     "start_time": "2021-03-25T07:44:53.121825Z"
    }
   },
   "outputs": [],
   "source": [
    "import numpy as np"
   ]
  },
  {
   "cell_type": "code",
   "execution_count": 8,
   "metadata": {
    "ExecuteTime": {
     "end_time": "2021-03-25T07:44:53.715540Z",
     "start_time": "2021-03-25T07:44:53.568415Z"
    }
   },
   "outputs": [],
   "source": [
    "a = np.random.randint((2, 5))\n",
    "\n",
    "# Create a torch tensor from numpy tensor and cast it to float32 type\n",
    "a_tensor = torch.tensor(a, dtype=torch.float)  # YOUR CODE HERE\n",
    "\n",
    "assert a_tensor.dtype == torch.float32"
   ]
  },
  {
   "cell_type": "markdown",
   "metadata": {
    "colab_type": "text",
    "id": "cHcJcupjos2u"
   },
   "source": [
    "Get its size:\n",
    "\n"
   ]
  },
  {
   "cell_type": "code",
   "execution_count": 9,
   "metadata": {
    "ExecuteTime": {
     "end_time": "2021-03-25T07:45:03.043559Z",
     "start_time": "2021-03-25T07:45:03.041294Z"
    },
    "colab": {},
    "colab_type": "code",
    "id": "glNo_10Kos2v"
   },
   "outputs": [
    {
     "name": "stdout",
     "output_type": "stream",
     "text": [
      "torch.Size([5, 3])\n"
     ]
    }
   ],
   "source": [
    "print(x.size())"
   ]
  },
  {
   "cell_type": "markdown",
   "metadata": {},
   "source": [
    "**Note:** ``torch.Size`` is in fact a tuple, so it supports all tuple operations."
   ]
  },
  {
   "cell_type": "code",
   "execution_count": 10,
   "metadata": {
    "ExecuteTime": {
     "end_time": "2021-03-25T07:45:40.913217Z",
     "start_time": "2021-03-25T07:45:40.906379Z"
    }
   },
   "outputs": [
    {
     "data": {
      "text/plain": [
       "True"
      ]
     },
     "execution_count": 10,
     "metadata": {},
     "output_type": "execute_result"
    }
   ],
   "source": [
    "isinstance(x.size(), tuple)"
   ]
  },
  {
   "cell_type": "markdown",
   "metadata": {
    "colab_type": "text",
    "id": "_scE1Qvwos21"
   },
   "source": [
    "#### Operations\n",
    "\n",
    "There are multiple syntaxes for operations. In the following\n",
    "example, we will take a look at the addition operation.\n",
    "\n",
    "Addition: syntax 1"
   ]
  },
  {
   "cell_type": "code",
   "execution_count": 11,
   "metadata": {
    "ExecuteTime": {
     "end_time": "2021-03-25T07:47:25.121154Z",
     "start_time": "2021-03-25T07:47:25.115729Z"
    },
    "colab": {},
    "colab_type": "code",
    "id": "luQAJTT9os22"
   },
   "outputs": [
    {
     "name": "stdout",
     "output_type": "stream",
     "text": [
      "tensor([[ 1.8610,  0.1412,  1.3729],\n",
      "        [-0.0305,  1.2887,  0.9303],\n",
      "        [ 1.9316,  1.0050,  1.4970],\n",
      "        [ 0.9762,  2.7134,  1.3030],\n",
      "        [ 1.0380,  1.3573,  0.0792]])\n"
     ]
    }
   ],
   "source": [
    "y = torch.rand(5, 3)\n",
    "print(x + y)"
   ]
  },
  {
   "cell_type": "markdown",
   "metadata": {
    "colab_type": "text",
    "id": "e8s8E-Q2os26"
   },
   "source": [
    "Addition: syntax 2\n",
    "\n"
   ]
  },
  {
   "cell_type": "code",
   "execution_count": 12,
   "metadata": {
    "ExecuteTime": {
     "end_time": "2021-03-25T07:47:26.319413Z",
     "start_time": "2021-03-25T07:47:26.315562Z"
    },
    "colab": {},
    "colab_type": "code",
    "id": "FLwb3hgyos28"
   },
   "outputs": [
    {
     "name": "stdout",
     "output_type": "stream",
     "text": [
      "tensor([[ 1.8610,  0.1412,  1.3729],\n",
      "        [-0.0305,  1.2887,  0.9303],\n",
      "        [ 1.9316,  1.0050,  1.4970],\n",
      "        [ 0.9762,  2.7134,  1.3030],\n",
      "        [ 1.0380,  1.3573,  0.0792]])\n"
     ]
    }
   ],
   "source": [
    "print(torch.add(x, y))"
   ]
  },
  {
   "cell_type": "markdown",
   "metadata": {
    "colab_type": "text",
    "id": "2dItCJmIos2_"
   },
   "source": [
    "Addition: providing an output tensor as argument\n",
    "\n"
   ]
  },
  {
   "cell_type": "code",
   "execution_count": 13,
   "metadata": {
    "ExecuteTime": {
     "end_time": "2021-03-25T07:47:34.343508Z",
     "start_time": "2021-03-25T07:47:34.339936Z"
    },
    "colab": {},
    "colab_type": "code",
    "id": "eTXFN-TTos3B"
   },
   "outputs": [
    {
     "name": "stdout",
     "output_type": "stream",
     "text": [
      "tensor([[ 1.8610,  0.1412,  1.3729],\n",
      "        [-0.0305,  1.2887,  0.9303],\n",
      "        [ 1.9316,  1.0050,  1.4970],\n",
      "        [ 0.9762,  2.7134,  1.3030],\n",
      "        [ 1.0380,  1.3573,  0.0792]])\n"
     ]
    }
   ],
   "source": [
    "result = torch.empty(5, 3)\n",
    "torch.add(x, y, out=result)\n",
    "print(result)"
   ]
  },
  {
   "cell_type": "markdown",
   "metadata": {
    "colab_type": "text",
    "id": "BmLxccujos3F"
   },
   "source": [
    "Addition: in-place\n",
    "\n"
   ]
  },
  {
   "cell_type": "code",
   "execution_count": 14,
   "metadata": {
    "ExecuteTime": {
     "end_time": "2021-03-25T07:47:35.559048Z",
     "start_time": "2021-03-25T07:47:35.555829Z"
    },
    "colab": {},
    "colab_type": "code",
    "id": "udSpL0x0os3H"
   },
   "outputs": [
    {
     "name": "stdout",
     "output_type": "stream",
     "text": [
      "tensor([[ 1.8610,  0.1412,  1.3729],\n",
      "        [-0.0305,  1.2887,  0.9303],\n",
      "        [ 1.9316,  1.0050,  1.4970],\n",
      "        [ 0.9762,  2.7134,  1.3030],\n",
      "        [ 1.0380,  1.3573,  0.0792]])\n"
     ]
    }
   ],
   "source": [
    "# adds x to y\n",
    "y.add_(x)\n",
    "print(y)"
   ]
  },
  {
   "cell_type": "markdown",
   "metadata": {
    "colab_type": "text",
    "id": "zqQU0LO0os3M"
   },
   "source": [
    "**Note**\n",
    "\n",
    "Any operation that mutates a tensor in-place is post-fixed with an ``_``.\\\n",
    "For example: ``x.copy_(y)``, ``x.t_()``, will change ``x``.</p></div>\n",
    "\n",
    "You can use standard NumPy-like indexing with all bells and whistles!"
   ]
  },
  {
   "cell_type": "code",
   "execution_count": 15,
   "metadata": {
    "ExecuteTime": {
     "end_time": "2021-03-25T07:49:20.923429Z",
     "start_time": "2021-03-25T07:49:20.918350Z"
    },
    "colab": {},
    "colab_type": "code",
    "id": "wcuoNbqOos3Q"
   },
   "outputs": [
    {
     "name": "stdout",
     "output_type": "stream",
     "text": [
      "tensor([-0.3603,  0.5928,  0.1877,  2.2199,  0.6989])\n"
     ]
    }
   ],
   "source": [
    "print(x[:, 1])"
   ]
  },
  {
   "cell_type": "markdown",
   "metadata": {
    "colab_type": "text",
    "id": "XyKhJ4E8os3U"
   },
   "source": [
    "Resizing: If you want to resize/reshape tensor, you can use ``torch.view``:\n",
    "\n"
   ]
  },
  {
   "cell_type": "code",
   "execution_count": 16,
   "metadata": {
    "ExecuteTime": {
     "end_time": "2021-03-25T07:49:24.353702Z",
     "start_time": "2021-03-25T07:49:24.349651Z"
    },
    "colab": {},
    "colab_type": "code",
    "id": "LmCUrv3qos3V"
   },
   "outputs": [
    {
     "name": "stdout",
     "output_type": "stream",
     "text": [
      "torch.Size([4, 4]) torch.Size([16]) torch.Size([2, 8])\n"
     ]
    }
   ],
   "source": [
    "x = torch.randn(4, 4)\n",
    "y = x.view(16)\n",
    "z = x.view(-1, 8)  # the size -1 is inferred from other dimensions\n",
    "print(x.size(), y.size(), z.size())"
   ]
  },
  {
   "cell_type": "markdown",
   "metadata": {
    "colab_type": "text",
    "id": "Srv3YKMMos3Y"
   },
   "source": [
    "If you have a one element tensor, use ``.item()`` to get the value as a\n",
    "Python number\n",
    "\n"
   ]
  },
  {
   "cell_type": "code",
   "execution_count": 17,
   "metadata": {
    "ExecuteTime": {
     "end_time": "2021-03-25T07:49:26.216650Z",
     "start_time": "2021-03-25T07:49:26.213200Z"
    },
    "colab": {},
    "colab_type": "code",
    "id": "s13XZt8Cos3Z"
   },
   "outputs": [
    {
     "name": "stdout",
     "output_type": "stream",
     "text": [
      "tensor([0.2410])\n",
      "0.24096013605594635\n"
     ]
    }
   ],
   "source": [
    "x = torch.randn(1)\n",
    "print(x)\n",
    "print(x.item())"
   ]
  },
  {
   "cell_type": "markdown",
   "metadata": {
    "colab_type": "text",
    "id": "orMsQvQAos3c"
   },
   "source": [
    "**Read later:**\n",
    "\n",
    "100+ Tensor operations, including transposing, indexing, slicing,\n",
    "mathematical operations, linear algebra, random numbers, etc.,\n",
    "[are described here](http://pytorch.org/docs/torch)\n",
    "\n",
    "## NumPy Bridge\n",
    "\n",
    "Converting a Torch Tensor to a NumPy array and vice versa is a breeze.\n",
    "\n",
    "The Torch Tensor and NumPy array will share their underlying memory\n",
    "locations, and changing one will change the other.\n",
    "\n",
    "#### Converting a Torch Tensor to a NumPy Array"
   ]
  },
  {
   "cell_type": "code",
   "execution_count": 18,
   "metadata": {
    "ExecuteTime": {
     "end_time": "2021-03-25T07:51:14.418778Z",
     "start_time": "2021-03-25T07:51:14.415453Z"
    },
    "colab": {},
    "colab_type": "code",
    "id": "BOdXxb_Vos3d"
   },
   "outputs": [
    {
     "name": "stdout",
     "output_type": "stream",
     "text": [
      "tensor([1., 1., 1., 1., 1.])\n"
     ]
    }
   ],
   "source": [
    "a = torch.ones(5)\n",
    "print(a)"
   ]
  },
  {
   "cell_type": "code",
   "execution_count": 19,
   "metadata": {
    "ExecuteTime": {
     "end_time": "2021-03-25T07:51:15.098804Z",
     "start_time": "2021-03-25T07:51:15.095300Z"
    },
    "colab": {},
    "colab_type": "code",
    "id": "68cPoOiIos3i"
   },
   "outputs": [
    {
     "name": "stdout",
     "output_type": "stream",
     "text": [
      "[1. 1. 1. 1. 1.]\n"
     ]
    }
   ],
   "source": [
    "b = a.numpy()\n",
    "print(b)"
   ]
  },
  {
   "cell_type": "markdown",
   "metadata": {
    "colab_type": "text",
    "id": "N9q-JAGdos3n"
   },
   "source": [
    "See how the numpy array changed in value.\n",
    "\n"
   ]
  },
  {
   "cell_type": "code",
   "execution_count": 20,
   "metadata": {
    "ExecuteTime": {
     "end_time": "2021-03-25T07:51:16.419056Z",
     "start_time": "2021-03-25T07:51:16.415306Z"
    },
    "colab": {},
    "colab_type": "code",
    "id": "0-AYXf1Los3p"
   },
   "outputs": [
    {
     "name": "stdout",
     "output_type": "stream",
     "text": [
      "tensor([2., 2., 2., 2., 2.])\n",
      "[2. 2. 2. 2. 2.]\n"
     ]
    }
   ],
   "source": [
    "a.add_(1)\n",
    "print(a)\n",
    "print(b)"
   ]
  },
  {
   "cell_type": "markdown",
   "metadata": {
    "colab_type": "text",
    "id": "8QtC7o0zos3s"
   },
   "source": [
    "#### Converting NumPy Array to Torch Tensor\n",
    "\n",
    "See how changing the np array changed the Torch Tensor automatically\n",
    "\n"
   ]
  },
  {
   "cell_type": "code",
   "execution_count": 21,
   "metadata": {
    "ExecuteTime": {
     "end_time": "2021-03-25T07:51:47.878839Z",
     "start_time": "2021-03-25T07:51:47.874879Z"
    },
    "colab": {},
    "colab_type": "code",
    "id": "MxF1_zXDos3t"
   },
   "outputs": [
    {
     "name": "stdout",
     "output_type": "stream",
     "text": [
      "[2. 2. 2. 2. 2.]\n",
      "tensor([2., 2., 2., 2., 2.], dtype=torch.float64)\n"
     ]
    }
   ],
   "source": [
    "a = np.ones(5)\n",
    "b = torch.from_numpy(a)\n",
    "\n",
    "np.add(a, 1, out=a)\n",
    "\n",
    "print(a)\n",
    "print(b)"
   ]
  },
  {
   "cell_type": "markdown",
   "metadata": {
    "colab_type": "text",
    "id": "-w5pWYnaos3w"
   },
   "source": [
    "All the Tensors on the CPU except a CharTensor support converting to\n",
    "NumPy and back.\n",
    "\n",
    "## CUDA Tensors\n",
    "\n",
    "Tensors can be moved onto any device using the ``.to`` method."
   ]
  },
  {
   "cell_type": "code",
   "execution_count": 22,
   "metadata": {
    "ExecuteTime": {
     "end_time": "2021-03-25T07:52:48.774481Z",
     "start_time": "2021-03-25T07:52:48.771927Z"
    },
    "colab": {},
    "colab_type": "code",
    "id": "LHW5QuDSos3x"
   },
   "outputs": [
    {
     "name": "stdout",
     "output_type": "stream",
     "text": [
      "tensor([1.2410], device='cuda:0')\n",
      "tensor([1.2410], dtype=torch.float64)\n"
     ]
    }
   ],
   "source": [
    "# let us run this cell only if CUDA is available\n",
    "# We will use ``torch.device`` objects to move tensors in and out of GPU\n",
    "if torch.cuda.is_available():\n",
    "    device = torch.device(\"cuda\")  # a CUDA device object\n",
    "    y = torch.ones_like(x, device=device)  # directly create a tensor on GPU\n",
    "    x = x.to(device)  # or just use strings ``.to(\"cuda\")``\n",
    "    z = x + y\n",
    "    print(z)\n",
    "    print(z.to(\"cpu\", torch.double))  # ``.to`` can also change dtype together!"
   ]
  },
  {
   "cell_type": "code",
   "execution_count": 23,
   "metadata": {
    "ExecuteTime": {
     "end_time": "2021-03-25T07:52:48.774481Z",
     "start_time": "2021-03-25T07:52:48.771927Z"
    },
    "colab": {},
    "colab_type": "code",
    "id": "LHW5QuDSos3x"
   },
   "outputs": [
    {
     "data": {
      "text/plain": [
       "'GeForce RTX 2060'"
      ]
     },
     "execution_count": 23,
     "metadata": {},
     "output_type": "execute_result"
    }
   ],
   "source": [
    "torch.cuda.get_device_name(0)"
   ]
  },
  {
   "cell_type": "markdown",
   "metadata": {},
   "source": [
    "# Autograd: Automatic Differentiation\n",
    "\n",
    "Central to all neural networks in PyTorch is the ``autograd`` package.\n",
    "Let’s first briefly visit this, and we will then go to training our\n",
    "first neural network.\n",
    "\n",
    "\n",
    "The ``autograd`` package provides automatic differentiation for all operations\n",
    "on Tensors. It is a define-by-run framework, which means that your backprop is\n",
    "defined by how your code is run, and that every single iteration can be\n",
    "different.\n",
    "\n",
    "Let us see this in more simple terms with some examples.\n",
    "\n",
    "## Tensor\n",
    "\n",
    "``torch.Tensor`` is the central class of the package. If you set its attribute\n",
    "``.requires_grad`` as ``True``, it starts to track all operations on it. When\n",
    "you finish your computation you can call ``.backward()`` and have all the\n",
    "gradients computed automatically. The gradient for this tensor will be\n",
    "accumulated into ``.grad`` attribute.\n",
    "\n",
    "To stop a tensor from tracking history, you can call ``.detach()`` to detach\n",
    "it from the computation history, and to prevent future computation from being\n",
    "tracked.\n",
    "\n",
    "To prevent tracking history (and using memory), you can also wrap the code block\n",
    "in ``with torch.no_grad():``. This can be particularly helpful when evaluating a\n",
    "model because the model may have trainable parameters with `requires_grad=True`,\n",
    "but for which we don't need the gradients.\n",
    "\n",
    "There’s one more class which is very important for autograd\n",
    "implementation - a ``Function``.\n",
    "\n",
    "``Tensor`` and ``Function`` are interconnected and build up an acyclic\n",
    "graph, that encodes a complete history of computation. Each tensor has\n",
    "a ``.grad_fn`` attribute that references a ``Function`` that has created\n",
    "the ``Tensor`` (except for Tensors created by the user - their\n",
    "``grad_fn is None``).\n",
    "\n",
    "If you want to compute the derivatives, you can call ``.backward()`` on\n",
    "a ``Tensor``. If ``Tensor`` is a scalar (i.e. it holds a one element\n",
    "data), you don’t need to specify any arguments to ``backward()``,\n",
    "however if it has more elements, you need to specify a ``gradient``\n",
    "argument that is a tensor of matching shape.\n",
    "\n"
   ]
  },
  {
   "cell_type": "markdown",
   "metadata": {},
   "source": [
    "Create a tensor and set requires_grad=True to track computation with it\n",
    "\n"
   ]
  },
  {
   "cell_type": "code",
   "execution_count": 24,
   "metadata": {
    "ExecuteTime": {
     "end_time": "2021-03-25T07:54:22.121198Z",
     "start_time": "2021-03-25T07:54:22.118180Z"
    }
   },
   "outputs": [
    {
     "name": "stdout",
     "output_type": "stream",
     "text": [
      "tensor([[1., 1.],\n",
      "        [1., 1.]], requires_grad=True)\n"
     ]
    }
   ],
   "source": [
    "x = torch.ones(2, 2, requires_grad=True)\n",
    "print(x)"
   ]
  },
  {
   "cell_type": "markdown",
   "metadata": {},
   "source": [
    "Do an operation of tensor:\n",
    "\n"
   ]
  },
  {
   "cell_type": "code",
   "execution_count": 25,
   "metadata": {
    "ExecuteTime": {
     "end_time": "2021-03-25T07:54:23.068686Z",
     "start_time": "2021-03-25T07:54:23.063505Z"
    }
   },
   "outputs": [
    {
     "name": "stdout",
     "output_type": "stream",
     "text": [
      "tensor([[3., 3.],\n",
      "        [3., 3.]], grad_fn=<AddBackward0>)\n"
     ]
    }
   ],
   "source": [
    "y = x + 2\n",
    "print(y)"
   ]
  },
  {
   "cell_type": "markdown",
   "metadata": {},
   "source": [
    "``y`` was created as a result of an operation, so it has a ``grad_fn``.\n",
    "\n"
   ]
  },
  {
   "cell_type": "code",
   "execution_count": 26,
   "metadata": {
    "ExecuteTime": {
     "end_time": "2021-03-25T07:54:24.218277Z",
     "start_time": "2021-03-25T07:54:24.215937Z"
    }
   },
   "outputs": [
    {
     "name": "stdout",
     "output_type": "stream",
     "text": [
      "<AddBackward0 object at 0x7fcb21805dc0>\n"
     ]
    }
   ],
   "source": [
    "print(y.grad_fn)"
   ]
  },
  {
   "cell_type": "markdown",
   "metadata": {},
   "source": [
    "Do more operations on y"
   ]
  },
  {
   "cell_type": "code",
   "execution_count": 27,
   "metadata": {
    "ExecuteTime": {
     "end_time": "2021-03-25T07:54:27.885352Z",
     "start_time": "2021-03-25T07:54:27.877905Z"
    }
   },
   "outputs": [
    {
     "name": "stdout",
     "output_type": "stream",
     "text": [
      "tensor([[27., 27.],\n",
      "        [27., 27.]], grad_fn=<MulBackward0>) tensor(27., grad_fn=<MeanBackward0>)\n"
     ]
    }
   ],
   "source": [
    "z = y * y * 3\n",
    "out = z.mean()\n",
    "\n",
    "print(z, out)"
   ]
  },
  {
   "cell_type": "markdown",
   "metadata": {},
   "source": [
    "``.requires_grad_( ... )`` changes an existing Tensor's ``requires_grad``\n",
    "flag in-place. The input flag defaults to ``False`` if not given.\n",
    "\n"
   ]
  },
  {
   "cell_type": "code",
   "execution_count": 28,
   "metadata": {
    "ExecuteTime": {
     "end_time": "2021-03-25T07:54:33.675595Z",
     "start_time": "2021-03-25T07:54:33.671007Z"
    }
   },
   "outputs": [
    {
     "name": "stdout",
     "output_type": "stream",
     "text": [
      "False\n",
      "True\n",
      "<SumBackward0 object at 0x7fcb21799880>\n"
     ]
    }
   ],
   "source": [
    "a = torch.randn(2, 2)\n",
    "a = (a * 3) / (a - 1)\n",
    "print(a.requires_grad)\n",
    "\n",
    "a.requires_grad_(True)\n",
    "print(a.requires_grad)\n",
    "\n",
    "b = (a * a).sum()\n",
    "print(b.grad_fn)"
   ]
  },
  {
   "cell_type": "markdown",
   "metadata": {},
   "source": [
    "Gradients\n",
    "---------\n",
    "Let's backprop now\n",
    "Because ``out`` contains a single scalar, ``out.backward()`` is\n",
    "equivalent to ``out.backward(torch.tensor(1))``.\n",
    "\n"
   ]
  },
  {
   "cell_type": "code",
   "execution_count": 29,
   "metadata": {
    "ExecuteTime": {
     "end_time": "2021-03-25T07:59:19.505356Z",
     "start_time": "2021-03-25T07:59:19.495444Z"
    }
   },
   "outputs": [],
   "source": [
    "out.backward()"
   ]
  },
  {
   "cell_type": "markdown",
   "metadata": {},
   "source": [
    "print gradients d(out)/dx\n",
    "\n",
    "\n"
   ]
  },
  {
   "cell_type": "code",
   "execution_count": 30,
   "metadata": {
    "ExecuteTime": {
     "end_time": "2021-03-25T07:59:20.529072Z",
     "start_time": "2021-03-25T07:59:20.525327Z"
    }
   },
   "outputs": [
    {
     "name": "stdout",
     "output_type": "stream",
     "text": [
      "tensor([[4.5000, 4.5000],\n",
      "        [4.5000, 4.5000]])\n"
     ]
    }
   ],
   "source": [
    "print(x.grad)"
   ]
  },
  {
   "cell_type": "markdown",
   "metadata": {},
   "source": [
    "You should have got a matrix of ``4.5``. Let’s call the ``out``\n",
    "*Tensor* “$o$”.\n",
    "We have that \n",
    "$$o = \\frac{1}{4}\\sum_i z_i,$$\n",
    "\n",
    "$$z_i = 3(x_i+2)^2$$ and $$z_i\\bigr\\rvert_{x_i=1} = 27$$\n",
    "\n",
    "Therefore,\n",
    "\n",
    "$$\\frac{\\partial o}{\\partial x_i} = \\frac{3}{2}(x_i+2),$$ hence\n",
    "$$\\frac{\\partial o}{\\partial x_i}\\bigr\\rvert_{x_i=1} = \\frac{9}{2} = 4.5$$"
   ]
  },
  {
   "cell_type": "markdown",
   "metadata": {},
   "source": [
    "You can do many crazy things with autograd!\n",
    "\n"
   ]
  },
  {
   "cell_type": "code",
   "execution_count": 31,
   "metadata": {
    "ExecuteTime": {
     "end_time": "2021-03-25T07:59:24.837999Z",
     "start_time": "2021-03-25T07:59:24.829629Z"
    }
   },
   "outputs": [
    {
     "name": "stdout",
     "output_type": "stream",
     "text": [
      "tensor([ 760.1940,  385.7352, -601.2919], grad_fn=<MulBackward0>)\n"
     ]
    }
   ],
   "source": [
    "x = torch.randn(3, requires_grad=True)\n",
    "\n",
    "y = x * 2\n",
    "while y.data.norm() < 1000:\n",
    "    y = y * 2\n",
    "\n",
    "print(y)"
   ]
  },
  {
   "cell_type": "code",
   "execution_count": 32,
   "metadata": {
    "ExecuteTime": {
     "end_time": "2021-03-25T07:59:30.795788Z",
     "start_time": "2021-03-25T07:59:30.791645Z"
    }
   },
   "outputs": [
    {
     "name": "stdout",
     "output_type": "stream",
     "text": [
      "tensor([1.0240e+02, 1.0240e+03, 1.0240e-01])\n"
     ]
    }
   ],
   "source": [
    "gradients = torch.tensor([0.1, 1.0, 0.0001], dtype=torch.float)\n",
    "y.backward(gradients)\n",
    "\n",
    "print(x.grad)"
   ]
  },
  {
   "cell_type": "markdown",
   "metadata": {},
   "source": [
    "You can also stop autograd from tracking history on Tensors\n",
    "with ``.requires_grad=True`` by wrapping the code block in\n",
    "``with torch.no_grad()``:\n",
    "\n"
   ]
  },
  {
   "cell_type": "code",
   "execution_count": 33,
   "metadata": {
    "ExecuteTime": {
     "end_time": "2021-03-25T07:59:32.483343Z",
     "start_time": "2021-03-25T07:59:32.476923Z"
    }
   },
   "outputs": [
    {
     "name": "stdout",
     "output_type": "stream",
     "text": [
      "True\n",
      "True\n",
      "False\n"
     ]
    }
   ],
   "source": [
    "print(x.requires_grad)\n",
    "print((x ** 2).requires_grad)\n",
    "\n",
    "with torch.no_grad():\n",
    "    print((x ** 2).requires_grad)"
   ]
  },
  {
   "cell_type": "markdown",
   "metadata": {},
   "source": [
    "**Read Later:**\n",
    "\n",
    "* Documentation of ``autograd`` and ``Function`` is at http://pytorch.org/docs/autograd\n",
    "* Methods to visualize graph: [Netron](https://github.com/lutzroeder/Netron), [hiddenlayer](https://github.com/waleedka/hiddenlayer), [pytorchviz](https://github.com/szagoruyko/pytorchviz)\n"
   ]
  },
  {
   "cell_type": "markdown",
   "metadata": {},
   "source": [
    "### Dealing with the familiar task\n",
    "Now we will tackle the same car classification problem with new techniques: neural networks. Let's get started"
   ]
  },
  {
   "cell_type": "code",
   "execution_count": 34,
   "metadata": {
    "ExecuteTime": {
     "end_time": "2021-03-25T08:02:34.418334Z",
     "start_time": "2021-03-25T08:02:34.088251Z"
    }
   },
   "outputs": [],
   "source": [
    "import pandas as pd"
   ]
  },
  {
   "cell_type": "code",
   "execution_count": 35,
   "metadata": {
    "ExecuteTime": {
     "end_time": "2021-03-25T08:02:36.997378Z",
     "start_time": "2021-03-25T08:02:35.025671Z"
    }
   },
   "outputs": [
    {
     "name": "stdout",
     "output_type": "stream",
     "text": [
      "--2021-03-30 16:51:17--  https://raw.githubusercontent.com/neychev/harbour_ml2020/master/assignments/assignment_Midterm/car_data.csv\n",
      "Resolving raw.githubusercontent.com (raw.githubusercontent.com)... 185.199.111.133, 185.199.110.133, 185.199.109.133, ...\n",
      "Connecting to raw.githubusercontent.com (raw.githubusercontent.com)|185.199.111.133|:443... connected.\n",
      "HTTP request sent, awaiting response... 200 OK\n",
      "Length: 58374 (57K) [text/plain]\n",
      "Saving to: ‘car_data.csv.2’\n",
      "\n",
      "car_data.csv.2      100%[===================>]  57,01K  --.-KB/s    in 0,02s   \n",
      "\n",
      "2021-03-30 16:51:17 (2,26 MB/s) - ‘car_data.csv.2’ saved [58374/58374]\n",
      "\n"
     ]
    }
   ],
   "source": [
    "import matplotlib.pyplot as plt\n",
    "import numpy as np\n",
    "import pandas as pd\n",
    "from sklearn.model_selection import train_test_split\n",
    "\n",
    "\n",
    "try:\n",
    "    dataset = pd.read_csv(\n",
    "        \"../assignments/assignment_Midterm/car_data.csv\", delimiter=\",\", header=None\n",
    "    ).values\n",
    "except FileNotFoundError:\n",
    "    !wget https://raw.githubusercontent.com/neychev/harbour_ml2020/master/assignments/assignment_Midterm/car_data.csv\n",
    "    dataset = pd.read_csv(\"car_data.csv\", delimiter=\",\", header=None).values"
   ]
  },
  {
   "cell_type": "code",
   "execution_count": 36,
   "metadata": {
    "ExecuteTime": {
     "end_time": "2021-03-25T08:03:00.698385Z",
     "start_time": "2021-03-25T08:03:00.691096Z"
    }
   },
   "outputs": [
    {
     "name": "stdout",
     "output_type": "stream",
     "text": [
      "(846, 19) (846,)\n",
      "(719, 19) (719,) (127, 19) (127,)\n"
     ]
    }
   ],
   "source": [
    "data = dataset[:, :-1].astype(int)\n",
    "target = dataset[:, -1]\n",
    "\n",
    "print(data.shape, target.shape)\n",
    "\n",
    "X_train, X_test, y_train_raw, y_test_raw = train_test_split(data, target, test_size=0.15)\n",
    "print(X_train.shape, y_train_raw.shape, X_test.shape, y_test_raw.shape)"
   ]
  },
  {
   "cell_type": "markdown",
   "metadata": {},
   "source": [
    "Now we need to map all the class labels to numbers. PyTorch does not like non-numeric labels."
   ]
  },
  {
   "cell_type": "code",
   "execution_count": 37,
   "metadata": {
    "ExecuteTime": {
     "end_time": "2021-03-25T08:03:01.902565Z",
     "start_time": "2021-03-25T08:03:01.898700Z"
    }
   },
   "outputs": [],
   "source": [
    "mapper = {x: idx for idx, x in enumerate(np.unique(y_train_raw))}\n",
    "y_train = np.array([mapper[y] for y in y_train_raw])\n",
    "y_test = np.array([mapper[y] for y in y_test_raw])"
   ]
  },
  {
   "cell_type": "code",
   "execution_count": 38,
   "metadata": {},
   "outputs": [],
   "source": [
    "# YOUR CODE HERE"
   ]
  },
  {
   "cell_type": "markdown",
   "metadata": {},
   "source": [
    "And let's preprocess the feature matrices as well"
   ]
  },
  {
   "cell_type": "code",
   "execution_count": 39,
   "metadata": {
    "ExecuteTime": {
     "end_time": "2021-03-25T08:03:07.488277Z",
     "start_time": "2021-03-25T08:03:07.482541Z"
    }
   },
   "outputs": [],
   "source": [
    "from sklearn.preprocessing import StandardScaler\n",
    "\n",
    "scaler = StandardScaler().fit(X_train.astype(float))\n",
    "\n",
    "X_train_scaled = scaler.transform(X_train.astype(float))\n",
    "X_test_scaled = scaler.transform(X_test.astype(float))"
   ]
  },
  {
   "cell_type": "code",
   "execution_count": 40,
   "metadata": {
    "ExecuteTime": {
     "end_time": "2021-03-25T08:03:09.187705Z",
     "start_time": "2021-03-25T08:03:09.184379Z"
    }
   },
   "outputs": [
    {
     "data": {
      "text/plain": [
       "array([[0, 95, 48, ..., 187, 197, 'van'],\n",
       "       [1, 91, 41, ..., 189, 199, 'van'],\n",
       "       [2, 104, 50, ..., 188, 196, 'saab'],\n",
       "       ...,\n",
       "       [843, 106, 54, ..., 187, 201, 'saab'],\n",
       "       [844, 86, 36, ..., 190, 195, 'saab'],\n",
       "       [845, 85, 36, ..., 186, 190, 'van']], dtype=object)"
      ]
     },
     "execution_count": 40,
     "metadata": {},
     "output_type": "execute_result"
    }
   ],
   "source": [
    "dataset"
   ]
  },
  {
   "cell_type": "code",
   "execution_count": 41,
   "metadata": {
    "ExecuteTime": {
     "end_time": "2021-03-25T08:03:13.471438Z",
     "start_time": "2021-03-25T08:03:13.466301Z"
    }
   },
   "outputs": [],
   "source": [
    "import torch\n",
    "import torchsummary\n",
    "from torch import nn\n",
    "from torch.nn import functional as F"
   ]
  },
  {
   "cell_type": "markdown",
   "metadata": {},
   "source": [
    "Here comes your first model, simple multiclass logistic regression (almost the same one you have used yesterday, but with no regularization)"
   ]
  },
  {
   "cell_type": "code",
   "execution_count": 42,
   "metadata": {
    "ExecuteTime": {
     "end_time": "2021-03-25T08:03:16.408775Z",
     "start_time": "2021-03-25T08:03:16.402302Z"
    }
   },
   "outputs": [],
   "source": [
    "model = nn.Sequential()\n",
    "model.add_module(\"l1\", nn.Linear(19, 32))\n",
    "model.add_module(\"a1\", nn.Tanh())\n",
    "model.add_module(\"l2\", nn.Linear(32, 32))\n",
    "model.add_module(\"a2\", nn.Tanh())\n",
    "model.add_module(\"d1\", nn.Dropout())\n",
    "model.add_module(\"l3\", nn.Linear(32, 4))"
   ]
  },
  {
   "cell_type": "code",
   "execution_count": 43,
   "metadata": {
    "ExecuteTime": {
     "end_time": "2021-03-25T08:03:17.115064Z",
     "start_time": "2021-03-25T08:03:17.112511Z"
    }
   },
   "outputs": [
    {
     "data": {
      "text/plain": [
       "Sequential(\n",
       "  (l1): Linear(in_features=19, out_features=4, bias=True)\n",
       "  (a1): LogSoftmax(dim=1)\n",
       ")"
      ]
     },
     "execution_count": 43,
     "metadata": {},
     "output_type": "execute_result"
    }
   ],
   "source": [
    "model = nn.Sequential()\n",
    "model.add_module(\"l1\", nn.Linear(19, 4))\n",
    "model.add_module(\"a1\", nn.LogSoftmax(dim=1))\n",
    "model.to('cuda')"
   ]
  },
  {
   "cell_type": "code",
   "execution_count": 44,
   "metadata": {
    "ExecuteTime": {
     "end_time": "2021-03-25T08:03:17.684328Z",
     "start_time": "2021-03-25T08:03:17.656443Z"
    }
   },
   "outputs": [
    {
     "name": "stdout",
     "output_type": "stream",
     "text": [
      "----------------------------------------------------------------\n",
      "        Layer (type)               Output Shape         Param #\n",
      "================================================================\n",
      "            Linear-1                    [-1, 4]              80\n",
      "        LogSoftmax-2                    [-1, 4]               0\n",
      "================================================================\n",
      "Total params: 80\n",
      "Trainable params: 80\n",
      "Non-trainable params: 0\n",
      "----------------------------------------------------------------\n",
      "Input size (MB): 0.00\n",
      "Forward/backward pass size (MB): 0.00\n",
      "Params size (MB): 0.00\n",
      "Estimated Total Size (MB): 0.00\n",
      "----------------------------------------------------------------\n"
     ]
    }
   ],
   "source": [
    "torchsummary.summary(model, (19,))"
   ]
  },
  {
   "cell_type": "markdown",
   "metadata": {},
   "source": [
    "We define the optimizer (it's named Adam, we will discuss it tomorrow. You can treat it as SGD with some bells and whistles)"
   ]
  },
  {
   "cell_type": "code",
   "execution_count": 45,
   "metadata": {
    "ExecuteTime": {
     "end_time": "2021-03-25T08:03:35.684563Z",
     "start_time": "2021-03-25T08:03:35.682609Z"
    }
   },
   "outputs": [],
   "source": [
    "opt = torch.optim.Adam(model.parameters())"
   ]
  },
  {
   "cell_type": "markdown",
   "metadata": {},
   "source": [
    "And here comes the loss function as well. `nn.CrossEntropyLoss` combines both log-softmax and "
   ]
  },
  {
   "cell_type": "code",
   "execution_count": 46,
   "metadata": {
    "ExecuteTime": {
     "end_time": "2021-03-25T08:03:36.554954Z",
     "start_time": "2021-03-25T08:03:36.553203Z"
    }
   },
   "outputs": [],
   "source": [
    "loss_function = nn.NLLLoss()"
   ]
  },
  {
   "cell_type": "code",
   "execution_count": 47,
   "metadata": {
    "ExecuteTime": {
     "end_time": "2021-03-25T08:03:36.931586Z",
     "start_time": "2021-03-25T08:03:36.928944Z"
    }
   },
   "outputs": [],
   "source": [
    "X_train_torch = torch.tensor(X_train_scaled, dtype=torch.float32).to('cuda')\n",
    "X_test_torch = torch.tensor(X_test_scaled, dtype=torch.float32).to('cuda')\n",
    "\n",
    "y_train_torch = torch.tensor(y_train, dtype=torch.long).to('cuda')\n",
    "y_test_torch = torch.tensor(y_test, dtype=torch.long).to('cuda')"
   ]
  },
  {
   "cell_type": "code",
   "execution_count": 48,
   "metadata": {
    "ExecuteTime": {
     "end_time": "2021-03-25T08:03:37.558971Z",
     "start_time": "2021-03-25T08:03:37.553100Z"
    }
   },
   "outputs": [
    {
     "data": {
      "text/plain": [
       "tensor(1.7105, device='cuda:0', grad_fn=<NllLossBackward>)"
      ]
     },
     "execution_count": 48,
     "metadata": {},
     "output_type": "execute_result"
    }
   ],
   "source": [
    "# example loss\n",
    "loss_function(model(X_train_torch[:3]), y_train_torch[:3])"
   ]
  },
  {
   "cell_type": "code",
   "execution_count": 49,
   "metadata": {
    "ExecuteTime": {
     "end_time": "2021-03-25T08:03:37.558971Z",
     "start_time": "2021-03-25T08:03:37.553100Z"
    }
   },
   "outputs": [],
   "source": [
    "from sklearn.metrics import accuracy_score"
   ]
  },
  {
   "cell_type": "code",
   "execution_count": 50,
   "metadata": {
    "ExecuteTime": {
     "end_time": "2021-03-25T08:03:38.322632Z",
     "start_time": "2021-03-25T08:03:38.201020Z"
    }
   },
   "outputs": [
    {
     "name": "stdout",
     "output_type": "stream",
     "text": [
      "step #0 | mean loss = 1.3621, test accuracy = 0.23622\n",
      "step #50 | mean loss = 1.2165, test accuracy = 0.3622\n",
      "step #100 | mean loss = 1.1322, test accuracy = 0.45669\n",
      "step #150 | mean loss = 1.0779, test accuracy = 0.53543\n",
      "step #200 | mean loss = 1.0399, test accuracy = 0.6063\n",
      "step #250 | mean loss = 0.97981, test accuracy = 0.6378\n",
      "step #300 | mean loss = 0.96967, test accuracy = 0.66929\n",
      "step #350 | mean loss = 0.92902, test accuracy = 0.68504\n",
      "step #400 | mean loss = 0.90946, test accuracy = 0.70079\n",
      "step #450 | mean loss = 0.86854, test accuracy = 0.68504\n",
      "step #500 | mean loss = 0.85616, test accuracy = 0.69291\n",
      "step #550 | mean loss = 0.82334, test accuracy = 0.72441\n",
      "step #600 | mean loss = 0.81348, test accuracy = 0.73228\n",
      "step #650 | mean loss = 0.78604, test accuracy = 0.73228\n",
      "step #700 | mean loss = 0.7749, test accuracy = 0.73228\n",
      "step #750 | mean loss = 0.76202, test accuracy = 0.73228\n",
      "step #800 | mean loss = 0.74232, test accuracy = 0.73228\n",
      "step #850 | mean loss = 0.73322, test accuracy = 0.74016\n",
      "step #900 | mean loss = 0.71375, test accuracy = 0.72441\n",
      "step #950 | mean loss = 0.70548, test accuracy = 0.74016\n"
     ]
    }
   ],
   "source": [
    "history = []\n",
    "\n",
    "for i in range(1000):\n",
    "    # sample 128 random observations\n",
    "    ix = np.random.randint(0, len(X_train), 256)\n",
    "    x_batch = X_train_torch[ix]\n",
    "    y_batch = y_train_torch[ix]\n",
    "\n",
    "    # predict probabilities\n",
    "    probs = model(x_batch)\n",
    "    \n",
    "    # compute loss, just like before\n",
    "    loss = loss_function(probs, y_batch)\n",
    "\n",
    "    # compute gradients\n",
    "    loss.backward()\n",
    "\n",
    "    # Adam step\n",
    "    opt.step()\n",
    "    \n",
    "    # clear gradients\n",
    "    model.zero_grad()\n",
    "\n",
    "    history.append(loss.item())\n",
    "\n",
    "    if i % 50 == 0:\n",
    "        print(\n",
    "            \"step #{} | mean loss = {:.5}, test accuracy = {:.5}\".format(\n",
    "                i,\n",
    "                np.mean(history[-10:]),\n",
    "                accuracy_score(y_test, model(X_test_torch).cpu().detach().numpy().argmax(axis=1)),\n",
    "            )\n",
    "        )"
   ]
  },
  {
   "cell_type": "markdown",
   "metadata": {},
   "source": [
    "Now we get the predictions"
   ]
  },
  {
   "cell_type": "code",
   "execution_count": 52,
   "metadata": {
    "ExecuteTime": {
     "end_time": "2021-03-25T08:03:59.367866Z",
     "start_time": "2021-03-25T08:03:59.363750Z"
    }
   },
   "outputs": [],
   "source": [
    "y_predicted_train = model(torch.from_numpy(X_train_scaled).type(torch.float32).to('cuda')).detach().cpu().numpy()\n",
    "y_predicted_test = model(torch.from_numpy(X_test_scaled).type(torch.float32).to('cuda')).detach().cpu().numpy()"
   ]
  },
  {
   "cell_type": "code",
   "execution_count": 54,
   "metadata": {
    "ExecuteTime": {
     "end_time": "2021-03-25T08:05:25.712414Z",
     "start_time": "2021-03-25T08:05:25.643648Z"
    }
   },
   "outputs": [],
   "source": [
    "import scikitplot\n",
    "from sklearn.metrics import accuracy_score, f1_score"
   ]
  },
  {
   "cell_type": "code",
   "execution_count": 55,
   "metadata": {
    "ExecuteTime": {
     "end_time": "2021-03-25T08:05:28.426245Z",
     "start_time": "2021-03-25T08:05:28.419274Z"
    }
   },
   "outputs": [
    {
     "name": "stdout",
     "output_type": "stream",
     "text": [
      "Accuracy train: 0.7621696801112656\n",
      "Accuracy  test: 0.7401574803149606\n",
      "f1 train: 0.7532427144753857\n",
      "f1 test: 0.7280900527021319\n"
     ]
    }
   ],
   "source": [
    "print(\n",
    "    \"Accuracy train: {}\\nAccuracy  test: {}\\nf1 train: {}\\nf1 test: {}\".format(\n",
    "        accuracy_score(y_train, np.argmax(y_predicted_train, axis=1)),\n",
    "        accuracy_score(y_test, np.argmax(y_predicted_test, axis=1)),\n",
    "        f1_score(y_train, np.argmax(y_predicted_train, axis=1), average=\"macro\"),\n",
    "        f1_score(y_test, np.argmax(y_predicted_test, axis=1), average=\"macro\"),\n",
    "    )\n",
    ")"
   ]
  },
  {
   "cell_type": "code",
   "execution_count": 56,
   "metadata": {
    "ExecuteTime": {
     "end_time": "2021-03-25T08:05:30.242852Z",
     "start_time": "2021-03-25T08:05:30.235373Z"
    }
   },
   "outputs": [
    {
     "name": "stdout",
     "output_type": "stream",
     "text": [
      "Accuracy train: 0.7621696801112656\n",
      "Accuracy  test: 0.7401574803149606\n",
      "f1 train: 0.7508261860530169\n",
      "f1 test: 0.733323510755217\n"
     ]
    }
   ],
   "source": [
    "print(\n",
    "    \"Accuracy train: {}\\nAccuracy  test: {}\\nf1 train: {}\\nf1 test: {}\".format(\n",
    "        accuracy_score(y_train, np.argmax(y_predicted_train, axis=1)),\n",
    "        accuracy_score(y_test, np.argmax(y_predicted_test, axis=1)),\n",
    "        f1_score(y_train, np.argmax(y_predicted_train, axis=1), average=\"weighted\"),\n",
    "        f1_score(y_test, np.argmax(y_predicted_test, axis=1), average=\"weighted\"),\n",
    "    )\n",
    ")"
   ]
  },
  {
   "cell_type": "code",
   "execution_count": 62,
   "metadata": {
    "ExecuteTime": {
     "end_time": "2021-03-25T08:05:31.057348Z",
     "start_time": "2021-03-25T08:05:30.756125Z"
    }
   },
   "outputs": [
    {
     "data": {
      "text/plain": [
       "<AxesSubplot:title={'center':'ROC Curves'}, xlabel='False Positive Rate', ylabel='True Positive Rate'>"
      ]
     },
     "execution_count": 62,
     "metadata": {},
     "output_type": "execute_result"
    },
    {
     "data": {
      "image/png": "[encoded data removed]",
      "text/plain": [
       "<Figure size 720x720 with 1 Axes>"
      ]
     },
     "metadata": {
      "needs_background": "light"
     },
     "output_type": "display_data"
    }
   ],
   "source": [
    "plt.figure(figsize=(10, 10))\n",
    "scikitplot.metrics.plot_roc(y_test, y_predicted_test, ax=plt.gca())"
   ]
  },
  {
   "cell_type": "markdown",
   "metadata": {},
   "source": [
    "__Not that good, yeah? Let's get back and make it really work__"
   ]
  },
  {
   "cell_type": "markdown",
   "metadata": {},
   "source": [
    "### More complex stuff: NotMNIST"
   ]
  },
  {
   "cell_type": "code",
   "execution_count": 64,
   "metadata": {},
   "outputs": [
    {
     "ename": "ModuleNotFoundError",
     "evalue": "No module named 'notmnist'",
     "output_type": "error",
     "traceback": [
      "\u001b[0;31m---------------------------------------------------------------------------\u001b[0m",
      "\u001b[0;31mModuleNotFoundError\u001b[0m                       Traceback (most recent call last)",
      "\u001b[0;32m<ipython-input-64-ae6101846da0>\u001b[0m in \u001b[0;36m<module>\u001b[0;34m\u001b[0m\n\u001b[0;32m----> 1\u001b[0;31m \u001b[0;32mfrom\u001b[0m \u001b[0mnotmnist\u001b[0m \u001b[0;32mimport\u001b[0m \u001b[0mload_notmnist\u001b[0m\u001b[0;34m\u001b[0m\u001b[0;34m\u001b[0m\u001b[0m\n\u001b[0m\u001b[1;32m      2\u001b[0m \u001b[0;34m\u001b[0m\u001b[0m\n\u001b[1;32m      3\u001b[0m \u001b[0;34m\u001b[0m\u001b[0m\n\u001b[1;32m      4\u001b[0m \u001b[0mX_train\u001b[0m\u001b[0;34m,\u001b[0m \u001b[0my_train\u001b[0m\u001b[0;34m,\u001b[0m \u001b[0mX_test\u001b[0m\u001b[0;34m,\u001b[0m \u001b[0my_test\u001b[0m \u001b[0;34m=\u001b[0m \u001b[0mload_notmnist\u001b[0m\u001b[0;34m(\u001b[0m\u001b[0;34m)\u001b[0m\u001b[0;34m\u001b[0m\u001b[0;34m\u001b[0m\u001b[0m\n\u001b[1;32m      5\u001b[0m \u001b[0mX_train\u001b[0m\u001b[0;34m,\u001b[0m \u001b[0mX_test\u001b[0m \u001b[0;34m=\u001b[0m \u001b[0mX_train\u001b[0m\u001b[0;34m.\u001b[0m\u001b[0mreshape\u001b[0m\u001b[0;34m(\u001b[0m\u001b[0;34m[\u001b[0m\u001b[0;34m-\u001b[0m\u001b[0;36m1\u001b[0m\u001b[0;34m,\u001b[0m \u001b[0;36m784\u001b[0m\u001b[0;34m]\u001b[0m\u001b[0;34m)\u001b[0m\u001b[0;34m,\u001b[0m \u001b[0mX_test\u001b[0m\u001b[0;34m.\u001b[0m\u001b[0mreshape\u001b[0m\u001b[0;34m(\u001b[0m\u001b[0;34m[\u001b[0m\u001b[0;34m-\u001b[0m\u001b[0;36m1\u001b[0m\u001b[0;34m,\u001b[0m \u001b[0;36m784\u001b[0m\u001b[0;34m]\u001b[0m\u001b[0;34m)\u001b[0m\u001b[0;34m\u001b[0m\u001b[0;34m\u001b[0m\u001b[0m\n",
      "\u001b[0;31mModuleNotFoundError\u001b[0m: No module named 'notmnist'"
     ]
    }
   ],
   "source": [
    "from notmnist import load_notmnist\n",
    "\n",
    "\n",
    "X_train, y_train, X_test, y_test = load_notmnist()\n",
    "X_train, X_test = X_train.reshape([-1, 784]), X_test.reshape([-1, 784])\n",
    "\n",
    "print(\"Train size = %i, test_size = %i\" % (len(X_train), len(X_test)))"
   ]
  },
  {
   "cell_type": "code",
   "execution_count": null,
   "metadata": {},
   "outputs": [],
   "source": [
    "for i in [0, 1]:\n",
    "    plt.subplot(1, 2, i + 1)\n",
    "    plt.imshow(X_train[i].reshape([28, 28]))\n",
    "    plt.title(str(y_train[i]))"
   ]
  },
  {
   "cell_type": "code",
   "execution_count": null,
   "metadata": {},
   "outputs": [],
   "source": [
    "# Your turn: create a multiclass classifier in here for notMNIST dataset."
   ]
  },
  {
   "cell_type": "code",
   "execution_count": null,
   "metadata": {},
   "outputs": [],
   "source": [
    "# create a network that stacks layers on top of each other\n",
    "model = nn.Sequential()\n",
    "\n",
    "# add first \"dense\" layer with 784 input units and 1 output unit.\n",
    "model.add_module(\n",
    "    \"l1\",\n",
    ")  # YOUR CODE HERE)\n",
    "model.add_module(\n",
    "    \"a1\",\n",
    ")  # YOUR CODE HERE)"
   ]
  },
  {
   "cell_type": "markdown",
   "metadata": {},
   "source": [
    "Take a look at the model structure:"
   ]
  },
  {
   "cell_type": "code",
   "execution_count": null,
   "metadata": {},
   "outputs": [],
   "source": [
    "torchsummary.summary(model)"
   ]
  },
  {
   "cell_type": "markdown",
   "metadata": {},
   "source": [
    "Let's check that everything works correctly:"
   ]
  },
  {
   "cell_type": "code",
   "execution_count": null,
   "metadata": {},
   "outputs": [],
   "source": [
    "# create dummy data with 3 samples and 784 features\n",
    "x = torch.tensor(X_train[:3], dtype=torch.float32)\n",
    "y = torch.tensor(y_train[:3], dtype=torch.float32)\n",
    "\n",
    "# compute outputs given inputs, both are variables\n",
    "y_predicted = model(x)[:, 0]\n",
    "\n",
    "y_predicted  # display what we've got"
   ]
  },
  {
   "cell_type": "markdown",
   "metadata": {},
   "source": [
    "Let's call the loss function from `torch.nn`."
   ]
  },
  {
   "cell_type": "code",
   "execution_count": null,
   "metadata": {},
   "outputs": [],
   "source": [
    "loss_function = nn.CrossEntropyLoss()"
   ]
  },
  {
   "cell_type": "markdown",
   "metadata": {},
   "source": [
    "Define some optimizer for your model parameters:"
   ]
  },
  {
   "cell_type": "code",
   "execution_count": null,
   "metadata": {},
   "outputs": [],
   "source": [
    "opt = None  # YOUR CODE HERE"
   ]
  },
  {
   "cell_type": "markdown",
   "metadata": {},
   "source": [
    "Compute the loss for some batch of objects:"
   ]
  },
  {
   "cell_type": "code",
   "execution_count": null,
   "metadata": {},
   "outputs": [],
   "source": [
    "loss = None  # YOUR CODE HERE"
   ]
  },
  {
   "cell_type": "markdown",
   "metadata": {},
   "source": [
    "Do a backward pass and optimizator step:"
   ]
  },
  {
   "cell_type": "code",
   "execution_count": null,
   "metadata": {},
   "outputs": [],
   "source": [
    "# YOUR CODE HERE"
   ]
  },
  {
   "cell_type": "markdown",
   "metadata": {},
   "source": [
    "Finally, implement the optimization pipeline and monitor the model quality during the optimization."
   ]
  },
  {
   "cell_type": "code",
   "execution_count": null,
   "metadata": {},
   "outputs": [],
   "source": [
    "# YOUR CODE HERE"
   ]
  }
 ],
 "metadata": {
  "colab": {
   "name": "tensor_tutorial.ipynb",
   "provenance": []
  },
  "kernelspec": {
   "display_name": "Python 3.8 (pytorch)",
   "language": "python",
   "name": "pytorch"
  },
  "language_info": {
   "codemirror_mode": {
    "name": "ipython",
    "version": 3
   },
   "file_extension": ".py",
   "mimetype": "text/x-python",
   "name": "python",
   "nbconvert_exporter": "python",
   "pygments_lexer": "ipython3",
   "version": "3.8.8"
  },
  "toc": {
   "base_numbering": 1,
   "nav_menu": {},
   "number_sections": true,
   "sideBar": true,
   "skip_h1_title": false,
   "title_cell": "Table of Contents",
   "title_sidebar": "Contents",
   "toc_cell": false,
   "toc_position": {},
   "toc_section_display": true,
   "toc_window_display": true
  }
 },
 "nbformat": 4,
 "nbformat_minor": 1
}
